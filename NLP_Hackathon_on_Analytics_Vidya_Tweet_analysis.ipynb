{
 "cells": [
  {
   "cell_type": "code",
   "execution_count": 1,
   "metadata": {},
   "outputs": [],
   "source": [
    "import numpy as np\n",
    "import pandas as pd"
   ]
  },
  {
   "cell_type": "code",
   "execution_count": 2,
   "metadata": {},
   "outputs": [],
   "source": [
    "train_tweet = pd.read_csv(\"train_tweets.csv\")"
   ]
  },
  {
   "cell_type": "code",
   "execution_count": 3,
   "metadata": {},
   "outputs": [
    {
     "data": {
      "text/html": [
       "<div>\n",
       "<style scoped>\n",
       "    .dataframe tbody tr th:only-of-type {\n",
       "        vertical-align: middle;\n",
       "    }\n",
       "\n",
       "    .dataframe tbody tr th {\n",
       "        vertical-align: top;\n",
       "    }\n",
       "\n",
       "    .dataframe thead th {\n",
       "        text-align: right;\n",
       "    }\n",
       "</style>\n",
       "<table border=\"1\" class=\"dataframe\">\n",
       "  <thead>\n",
       "    <tr style=\"text-align: right;\">\n",
       "      <th></th>\n",
       "      <th>id</th>\n",
       "      <th>label</th>\n",
       "      <th>tweet</th>\n",
       "    </tr>\n",
       "  </thead>\n",
       "  <tbody>\n",
       "    <tr>\n",
       "      <th>0</th>\n",
       "      <td>1</td>\n",
       "      <td>0</td>\n",
       "      <td>@user when a father is dysfunctional and is s...</td>\n",
       "    </tr>\n",
       "    <tr>\n",
       "      <th>1</th>\n",
       "      <td>2</td>\n",
       "      <td>0</td>\n",
       "      <td>@user @user thanks for #lyft credit i can't us...</td>\n",
       "    </tr>\n",
       "    <tr>\n",
       "      <th>2</th>\n",
       "      <td>3</td>\n",
       "      <td>0</td>\n",
       "      <td>bihday your majesty</td>\n",
       "    </tr>\n",
       "    <tr>\n",
       "      <th>3</th>\n",
       "      <td>4</td>\n",
       "      <td>0</td>\n",
       "      <td>#model   i love u take with u all the time in ...</td>\n",
       "    </tr>\n",
       "    <tr>\n",
       "      <th>4</th>\n",
       "      <td>5</td>\n",
       "      <td>0</td>\n",
       "      <td>factsguide: society now    #motivation</td>\n",
       "    </tr>\n",
       "    <tr>\n",
       "      <th>...</th>\n",
       "      <td>...</td>\n",
       "      <td>...</td>\n",
       "      <td>...</td>\n",
       "    </tr>\n",
       "    <tr>\n",
       "      <th>31957</th>\n",
       "      <td>31958</td>\n",
       "      <td>0</td>\n",
       "      <td>ate @user isz that youuu?ðððððð...</td>\n",
       "    </tr>\n",
       "    <tr>\n",
       "      <th>31958</th>\n",
       "      <td>31959</td>\n",
       "      <td>0</td>\n",
       "      <td>to see nina turner on the airwaves trying to...</td>\n",
       "    </tr>\n",
       "    <tr>\n",
       "      <th>31959</th>\n",
       "      <td>31960</td>\n",
       "      <td>0</td>\n",
       "      <td>listening to sad songs on a monday morning otw...</td>\n",
       "    </tr>\n",
       "    <tr>\n",
       "      <th>31960</th>\n",
       "      <td>31961</td>\n",
       "      <td>1</td>\n",
       "      <td>@user #sikh #temple vandalised in in #calgary,...</td>\n",
       "    </tr>\n",
       "    <tr>\n",
       "      <th>31961</th>\n",
       "      <td>31962</td>\n",
       "      <td>0</td>\n",
       "      <td>thank you @user for you follow</td>\n",
       "    </tr>\n",
       "  </tbody>\n",
       "</table>\n",
       "<p>31962 rows × 3 columns</p>\n",
       "</div>"
      ],
      "text/plain": [
       "          id  label                                              tweet\n",
       "0          1      0   @user when a father is dysfunctional and is s...\n",
       "1          2      0  @user @user thanks for #lyft credit i can't us...\n",
       "2          3      0                                bihday your majesty\n",
       "3          4      0  #model   i love u take with u all the time in ...\n",
       "4          5      0             factsguide: society now    #motivation\n",
       "...      ...    ...                                                ...\n",
       "31957  31958      0  ate @user isz that youuu?ðððððð...\n",
       "31958  31959      0    to see nina turner on the airwaves trying to...\n",
       "31959  31960      0  listening to sad songs on a monday morning otw...\n",
       "31960  31961      1  @user #sikh #temple vandalised in in #calgary,...\n",
       "31961  31962      0                   thank you @user for you follow  \n",
       "\n",
       "[31962 rows x 3 columns]"
      ]
     },
     "execution_count": 3,
     "metadata": {},
     "output_type": "execute_result"
    }
   ],
   "source": [
    "train_tweet"
   ]
  },
  {
   "cell_type": "code",
   "execution_count": 8,
   "metadata": {},
   "outputs": [
    {
     "data": {
      "text/plain": [
       "Series([], Name: id, dtype: int64)"
      ]
     },
     "execution_count": 8,
     "metadata": {},
     "output_type": "execute_result"
    }
   ],
   "source": [
    "train_tweet['id'].iloc[31963:]"
   ]
  },
  {
   "cell_type": "code",
   "execution_count": 4,
   "metadata": {},
   "outputs": [],
   "source": [
    "test_tweet = pd.read_csv(\"test_tweets.csv\")"
   ]
  },
  {
   "cell_type": "code",
   "execution_count": 5,
   "metadata": {},
   "outputs": [
    {
     "data": {
      "text/html": [
       "<div>\n",
       "<style scoped>\n",
       "    .dataframe tbody tr th:only-of-type {\n",
       "        vertical-align: middle;\n",
       "    }\n",
       "\n",
       "    .dataframe tbody tr th {\n",
       "        vertical-align: top;\n",
       "    }\n",
       "\n",
       "    .dataframe thead th {\n",
       "        text-align: right;\n",
       "    }\n",
       "</style>\n",
       "<table border=\"1\" class=\"dataframe\">\n",
       "  <thead>\n",
       "    <tr style=\"text-align: right;\">\n",
       "      <th></th>\n",
       "      <th>id</th>\n",
       "      <th>tweet</th>\n",
       "    </tr>\n",
       "  </thead>\n",
       "  <tbody>\n",
       "    <tr>\n",
       "      <th>0</th>\n",
       "      <td>31963</td>\n",
       "      <td>#studiolife #aislife #requires #passion #dedic...</td>\n",
       "    </tr>\n",
       "    <tr>\n",
       "      <th>1</th>\n",
       "      <td>31964</td>\n",
       "      <td>@user #white #supremacists want everyone to s...</td>\n",
       "    </tr>\n",
       "    <tr>\n",
       "      <th>2</th>\n",
       "      <td>31965</td>\n",
       "      <td>safe ways to heal your #acne!!    #altwaystohe...</td>\n",
       "    </tr>\n",
       "    <tr>\n",
       "      <th>3</th>\n",
       "      <td>31966</td>\n",
       "      <td>is the hp and the cursed child book up for res...</td>\n",
       "    </tr>\n",
       "    <tr>\n",
       "      <th>4</th>\n",
       "      <td>31967</td>\n",
       "      <td>3rd #bihday to my amazing, hilarious #nephew...</td>\n",
       "    </tr>\n",
       "    <tr>\n",
       "      <th>...</th>\n",
       "      <td>...</td>\n",
       "      <td>...</td>\n",
       "    </tr>\n",
       "    <tr>\n",
       "      <th>17192</th>\n",
       "      <td>49155</td>\n",
       "      <td>thought factory: left-right polarisation! #tru...</td>\n",
       "    </tr>\n",
       "    <tr>\n",
       "      <th>17193</th>\n",
       "      <td>49156</td>\n",
       "      <td>feeling like a mermaid ð #hairflip #neverre...</td>\n",
       "    </tr>\n",
       "    <tr>\n",
       "      <th>17194</th>\n",
       "      <td>49157</td>\n",
       "      <td>#hillary #campaigned today in #ohio((omg)) &amp;am...</td>\n",
       "    </tr>\n",
       "    <tr>\n",
       "      <th>17195</th>\n",
       "      <td>49158</td>\n",
       "      <td>happy, at work conference: right mindset leads...</td>\n",
       "    </tr>\n",
       "    <tr>\n",
       "      <th>17196</th>\n",
       "      <td>49159</td>\n",
       "      <td>my   song \"so glad\" free download!  #shoegaze ...</td>\n",
       "    </tr>\n",
       "  </tbody>\n",
       "</table>\n",
       "<p>17197 rows × 2 columns</p>\n",
       "</div>"
      ],
      "text/plain": [
       "          id                                              tweet\n",
       "0      31963  #studiolife #aislife #requires #passion #dedic...\n",
       "1      31964   @user #white #supremacists want everyone to s...\n",
       "2      31965  safe ways to heal your #acne!!    #altwaystohe...\n",
       "3      31966  is the hp and the cursed child book up for res...\n",
       "4      31967    3rd #bihday to my amazing, hilarious #nephew...\n",
       "...      ...                                                ...\n",
       "17192  49155  thought factory: left-right polarisation! #tru...\n",
       "17193  49156  feeling like a mermaid ð #hairflip #neverre...\n",
       "17194  49157  #hillary #campaigned today in #ohio((omg)) &am...\n",
       "17195  49158  happy, at work conference: right mindset leads...\n",
       "17196  49159  my   song \"so glad\" free download!  #shoegaze ...\n",
       "\n",
       "[17197 rows x 2 columns]"
      ]
     },
     "execution_count": 5,
     "metadata": {},
     "output_type": "execute_result"
    }
   ],
   "source": [
    "test_tweet"
   ]
  },
  {
   "cell_type": "code",
   "execution_count": 9,
   "metadata": {},
   "outputs": [
    {
     "name": "stdout",
     "output_type": "stream",
     "text": [
      "Collecting textsearch\n",
      "  Downloading textsearch-0.0.21-py2.py3-none-any.whl (7.5 kB)\n",
      "Collecting pyahocorasick\n",
      "  Downloading pyahocorasick-1.4.2.tar.gz (321 kB)\n",
      "Collecting anyascii\n",
      "  Downloading anyascii-0.1.7-py3-none-any.whl (260 kB)\n",
      "Building wheels for collected packages: pyahocorasick\n",
      "  Building wheel for pyahocorasick (setup.py): started\n",
      "  Building wheel for pyahocorasick (setup.py): finished with status 'error'\n",
      "  Running setup.py clean for pyahocorasick\n",
      "Failed to build pyahocorasick\n",
      "Installing collected packages: pyahocorasick, anyascii, textsearch\n",
      "    Running setup.py install for pyahocorasick: started\n",
      "    Running setup.py install for pyahocorasick: finished with status 'error'\n"
     ]
    },
    {
     "name": "stderr",
     "output_type": "stream",
     "text": [
      "  ERROR: Command errored out with exit status 1:\n",
      "   command: 'C:\\Users\\dell\\anaconda3\\python.exe' -u -c 'import sys, setuptools, tokenize; sys.argv[0] = '\"'\"'C:\\\\Users\\\\dell\\\\AppData\\\\Local\\\\Temp\\\\pip-install-k23wy3r2\\\\pyahocorasick\\\\setup.py'\"'\"'; __file__='\"'\"'C:\\\\Users\\\\dell\\\\AppData\\\\Local\\\\Temp\\\\pip-install-k23wy3r2\\\\pyahocorasick\\\\setup.py'\"'\"';f=getattr(tokenize, '\"'\"'open'\"'\"', open)(__file__);code=f.read().replace('\"'\"'\\r\\n'\"'\"', '\"'\"'\\n'\"'\"');f.close();exec(compile(code, __file__, '\"'\"'exec'\"'\"'))' bdist_wheel -d 'C:\\Users\\dell\\AppData\\Local\\Temp\\pip-wheel-c4qbvxcc'\n",
      "       cwd: C:\\Users\\dell\\AppData\\Local\\Temp\\pip-install-k23wy3r2\\pyahocorasick\\\n",
      "  Complete output (115 lines):\n",
      "  running bdist_wheel\n",
      "  running build\n",
      "  running build_ext\n",
      "  building 'ahocorasick' extension\n",
      "  creating build\n",
      "  creating build\\temp.win-amd64-3.8\n",
      "  creating build\\temp.win-amd64-3.8\\Release\n",
      "  C:\\Users\\dell\\anaconda3\\Library\\mingw-w64\\bin\\gcc.exe -mdll -O -Wall -DMS_WIN64 -DAHOCORASICK_UNICODE= -IC:\\Users\\dell\\anaconda3\\include -IC:\\Users\\dell\\anaconda3\\include -c pyahocorasick.c -o build\\temp.win-amd64-3.8\\Release\\pyahocorasick.o\n",
      "  In file included from C:\\Users\\dell\\anaconda3\\include/pytime.h:6:0,\n",
      "                   from C:\\Users\\dell\\anaconda3\\include/Python.h:85,\n",
      "                   from common.h:15,\n",
      "                   from pyahocorasick.c:13:\n",
      "  posix.h:14:51: error: initializer element is not constant\n",
      "   #define PY_OBJECT_HEAD_INIT PyVarObject_HEAD_INIT(&PyType_Type, 0)\n",
      "                                                     ^\n",
      "  C:\\Users\\dell\\anaconda3\\include/object.h:85:8: note: in definition of macro 'PyObject_HEAD_INIT'\n",
      "       1, type },\n",
      "          ^\n",
      "  posix.h:14:29: note: in expansion of macro 'PyVarObject_HEAD_INIT'\n",
      "   #define PY_OBJECT_HEAD_INIT PyVarObject_HEAD_INIT(&PyType_Type, 0)\n",
      "                               ^\n",
      "  Automaton.c:1259:5: note: in expansion of macro 'PY_OBJECT_HEAD_INIT'\n",
      "       PY_OBJECT_HEAD_INIT\n",
      "       ^\n",
      "  posix.h:14:51: note: (near initialization for 'automaton_type.ob_base.ob_base.ob_type')\n",
      "   #define PY_OBJECT_HEAD_INIT PyVarObject_HEAD_INIT(&PyType_Type, 0)\n",
      "                                                     ^\n",
      "  C:\\Users\\dell\\anaconda3\\include/object.h:85:8: note: in definition of macro 'PyObject_HEAD_INIT'\n",
      "       1, type },\n",
      "          ^\n",
      "  posix.h:14:29: note: in expansion of macro 'PyVarObject_HEAD_INIT'\n",
      "   #define PY_OBJECT_HEAD_INIT PyVarObject_HEAD_INIT(&PyType_Type, 0)\n",
      "                               ^\n",
      "  Automaton.c:1259:5: note: in expansion of macro 'PY_OBJECT_HEAD_INIT'\n",
      "       PY_OBJECT_HEAD_INIT\n",
      "       ^\n",
      "  posix.h:14:51: error: initializer element is not constant\n",
      "   #define PY_OBJECT_HEAD_INIT PyVarObject_HEAD_INIT(&PyType_Type, 0)\n",
      "                                                     ^\n",
      "  C:\\Users\\dell\\anaconda3\\include/object.h:85:8: note: in definition of macro 'PyObject_HEAD_INIT'\n",
      "       1, type },\n",
      "          ^\n",
      "  posix.h:14:29: note: in expansion of macro 'PyVarObject_HEAD_INIT'\n",
      "   #define PY_OBJECT_HEAD_INIT PyVarObject_HEAD_INIT(&PyType_Type, 0)\n",
      "                               ^\n",
      "  AutomatonItemsIter.c:294:5: note: in expansion of macro 'PY_OBJECT_HEAD_INIT'\n",
      "       PY_OBJECT_HEAD_INIT\n",
      "       ^\n",
      "  posix.h:14:51: note: (near initialization for 'automaton_items_iter_type.ob_base.ob_base.ob_type')\n",
      "   #define PY_OBJECT_HEAD_INIT PyVarObject_HEAD_INIT(&PyType_Type, 0)\n",
      "                                                     ^\n",
      "  C:\\Users\\dell\\anaconda3\\include/object.h:85:8: note: in definition of macro 'PyObject_HEAD_INIT'\n",
      "       1, type },\n",
      "          ^\n",
      "  posix.h:14:29: note: in expansion of macro 'PyVarObject_HEAD_INIT'\n",
      "   #define PY_OBJECT_HEAD_INIT PyVarObject_HEAD_INIT(&PyType_Type, 0)\n",
      "                               ^\n",
      "  AutomatonItemsIter.c:294:5: note: in expansion of macro 'PY_OBJECT_HEAD_INIT'\n",
      "       PY_OBJECT_HEAD_INIT\n",
      "       ^\n",
      "  posix.h:14:51: error: initializer element is not constant\n",
      "   #define PY_OBJECT_HEAD_INIT PyVarObject_HEAD_INIT(&PyType_Type, 0)\n",
      "                                                     ^\n",
      "  C:\\Users\\dell\\anaconda3\\include/object.h:85:8: note: in definition of macro 'PyObject_HEAD_INIT'\n",
      "       1, type },\n",
      "          ^\n",
      "  posix.h:14:29: note: in expansion of macro 'PyVarObject_HEAD_INIT'\n",
      "   #define PY_OBJECT_HEAD_INIT PyVarObject_HEAD_INIT(&PyType_Type, 0)\n",
      "                               ^\n",
      "  AutomatonSearchIter.c:385:5: note: in expansion of macro 'PY_OBJECT_HEAD_INIT'\n",
      "       PY_OBJECT_HEAD_INIT\n",
      "       ^\n",
      "  posix.h:14:51: note: (near initialization for 'automaton_search_iter_type.ob_base.ob_base.ob_type')\n",
      "   #define PY_OBJECT_HEAD_INIT PyVarObject_HEAD_INIT(&PyType_Type, 0)\n",
      "                                                     ^\n",
      "  C:\\Users\\dell\\anaconda3\\include/object.h:85:8: note: in definition of macro 'PyObject_HEAD_INIT'\n",
      "       1, type },\n",
      "          ^\n",
      "  posix.h:14:29: note: in expansion of macro 'PyVarObject_HEAD_INIT'\n",
      "   #define PY_OBJECT_HEAD_INIT PyVarObject_HEAD_INIT(&PyType_Type, 0)\n",
      "                               ^\n",
      "  AutomatonSearchIter.c:385:5: note: in expansion of macro 'PY_OBJECT_HEAD_INIT'\n",
      "       PY_OBJECT_HEAD_INIT\n",
      "       ^\n",
      "  posix.h:14:51: error: initializer element is not constant\n",
      "   #define PY_OBJECT_HEAD_INIT PyVarObject_HEAD_INIT(&PyType_Type, 0)\n",
      "                                                     ^\n",
      "  C:\\Users\\dell\\anaconda3\\include/object.h:85:8: note: in definition of macro 'PyObject_HEAD_INIT'\n",
      "       1, type },\n",
      "          ^\n",
      "  posix.h:14:29: note: in expansion of macro 'PyVarObject_HEAD_INIT'\n",
      "   #define PY_OBJECT_HEAD_INIT PyVarObject_HEAD_INIT(&PyType_Type, 0)\n",
      "                               ^\n",
      "  AutomatonSearchIterLong.c:229:5: note: in expansion of macro 'PY_OBJECT_HEAD_INIT'\n",
      "       PY_OBJECT_HEAD_INIT\n",
      "       ^\n",
      "  posix.h:14:51: note: (near initialization for 'automaton_search_iter_long_type.ob_base.ob_base.ob_type')\n",
      "   #define PY_OBJECT_HEAD_INIT PyVarObject_HEAD_INIT(&PyType_Type, 0)\n",
      "                                                     ^\n",
      "  C:\\Users\\dell\\anaconda3\\include/object.h:85:8: note: in definition of macro 'PyObject_HEAD_INIT'\n",
      "       1, type },\n",
      "          ^\n",
      "  posix.h:14:29: note: in expansion of macro 'PyVarObject_HEAD_INIT'\n",
      "   #define PY_OBJECT_HEAD_INIT PyVarObject_HEAD_INIT(&PyType_Type, 0)\n",
      "                               ^\n",
      "  AutomatonSearchIterLong.c:229:5: note: in expansion of macro 'PY_OBJECT_HEAD_INIT'\n",
      "       PY_OBJECT_HEAD_INIT\n",
      "       ^\n",
      "  In file included from allsources.c:5:0,\n",
      "                   from pyahocorasick.c:36:\n",
      "  src/custompickle/load/loadbuffer.c: In function 'loadbuffer_init':\n",
      "  src/custompickle/load/loadbuffer.c:68:30: warning: overflow in implicit constant conversion [-Woverflow]\n",
      "       ret = fseek(input->file, -sizeof(CustompickleFooter), SEEK_END);\n",
      "                                ^\n",
      "  error: command 'C:\\\\Users\\\\dell\\\\anaconda3\\\\Library\\\\mingw-w64\\\\bin\\\\gcc.exe' failed with exit status 1\n",
      "  ----------------------------------------\n",
      "  ERROR: Failed building wheel for pyahocorasick\n",
      "    ERROR: Command errored out with exit status 1:\n",
      "     command: 'C:\\Users\\dell\\anaconda3\\python.exe' -u -c 'import sys, setuptools, tokenize; sys.argv[0] = '\"'\"'C:\\\\Users\\\\dell\\\\AppData\\\\Local\\\\Temp\\\\pip-install-k23wy3r2\\\\pyahocorasick\\\\setup.py'\"'\"'; __file__='\"'\"'C:\\\\Users\\\\dell\\\\AppData\\\\Local\\\\Temp\\\\pip-install-k23wy3r2\\\\pyahocorasick\\\\setup.py'\"'\"';f=getattr(tokenize, '\"'\"'open'\"'\"', open)(__file__);code=f.read().replace('\"'\"'\\r\\n'\"'\"', '\"'\"'\\n'\"'\"');f.close();exec(compile(code, __file__, '\"'\"'exec'\"'\"'))' install --record 'C:\\Users\\dell\\AppData\\Local\\Temp\\pip-record-ggozn8v6\\install-record.txt' --single-version-externally-managed --compile --install-headers 'C:\\Users\\dell\\anaconda3\\Include\\pyahocorasick'\n",
      "         cwd: C:\\Users\\dell\\AppData\\Local\\Temp\\pip-install-k23wy3r2\\pyahocorasick\\\n",
      "    Complete output (115 lines):\n",
      "    running install\n",
      "    running build\n",
      "    running build_ext\n",
      "    building 'ahocorasick' extension\n",
      "    creating build\n",
      "    creating build\\temp.win-amd64-3.8\n",
      "    creating build\\temp.win-amd64-3.8\\Release\n",
      "    C:\\Users\\dell\\anaconda3\\Library\\mingw-w64\\bin\\gcc.exe -mdll -O -Wall -DMS_WIN64 -DAHOCORASICK_UNICODE= -IC:\\Users\\dell\\anaconda3\\include -IC:\\Users\\dell\\anaconda3\\include -c pyahocorasick.c -o build\\temp.win-amd64-3.8\\Release\\pyahocorasick.o\n",
      "    In file included from C:\\Users\\dell\\anaconda3\\include/pytime.h:6:0,\n",
      "                     from C:\\Users\\dell\\anaconda3\\include/Python.h:85,\n",
      "                     from common.h:15,\n",
      "                     from pyahocorasick.c:13:\n",
      "    posix.h:14:51: error: initializer element is not constant\n",
      "     #define PY_OBJECT_HEAD_INIT PyVarObject_HEAD_INIT(&PyType_Type, 0)\n",
      "                                                       ^\n",
      "    C:\\Users\\dell\\anaconda3\\include/object.h:85:8: note: in definition of macro 'PyObject_HEAD_INIT'\n",
      "         1, type },\n",
      "            ^\n",
      "    posix.h:14:29: note: in expansion of macro 'PyVarObject_HEAD_INIT'\n",
      "     #define PY_OBJECT_HEAD_INIT PyVarObject_HEAD_INIT(&PyType_Type, 0)\n",
      "                                 ^\n",
      "    Automaton.c:1259:5: note: in expansion of macro 'PY_OBJECT_HEAD_INIT'\n",
      "         PY_OBJECT_HEAD_INIT\n",
      "         ^\n",
      "    posix.h:14:51: note: (near initialization for 'automaton_type.ob_base.ob_base.ob_type')\n",
      "     #define PY_OBJECT_HEAD_INIT PyVarObject_HEAD_INIT(&PyType_Type, 0)\n",
      "                                                       ^\n",
      "    C:\\Users\\dell\\anaconda3\\include/object.h:85:8: note: in definition of macro 'PyObject_HEAD_INIT'\n",
      "         1, type },\n",
      "            ^\n",
      "    posix.h:14:29: note: in expansion of macro 'PyVarObject_HEAD_INIT'\n",
      "     #define PY_OBJECT_HEAD_INIT PyVarObject_HEAD_INIT(&PyType_Type, 0)\n",
      "                                 ^\n",
      "    Automaton.c:1259:5: note: in expansion of macro 'PY_OBJECT_HEAD_INIT'\n",
      "         PY_OBJECT_HEAD_INIT\n",
      "         ^\n",
      "    posix.h:14:51: error: initializer element is not constant\n",
      "     #define PY_OBJECT_HEAD_INIT PyVarObject_HEAD_INIT(&PyType_Type, 0)\n",
      "                                                       ^\n",
      "    C:\\Users\\dell\\anaconda3\\include/object.h:85:8: note: in definition of macro 'PyObject_HEAD_INIT'\n",
      "         1, type },\n",
      "            ^\n",
      "    posix.h:14:29: note: in expansion of macro 'PyVarObject_HEAD_INIT'\n",
      "     #define PY_OBJECT_HEAD_INIT PyVarObject_HEAD_INIT(&PyType_Type, 0)\n",
      "                                 ^\n",
      "    AutomatonItemsIter.c:294:5: note: in expansion of macro 'PY_OBJECT_HEAD_INIT'\n",
      "         PY_OBJECT_HEAD_INIT\n",
      "         ^\n",
      "    posix.h:14:51: note: (near initialization for 'automaton_items_iter_type.ob_base.ob_base.ob_type')\n",
      "     #define PY_OBJECT_HEAD_INIT PyVarObject_HEAD_INIT(&PyType_Type, 0)\n",
      "                                                       ^\n",
      "    C:\\Users\\dell\\anaconda3\\include/object.h:85:8: note: in definition of macro 'PyObject_HEAD_INIT'\n",
      "         1, type },\n",
      "            ^\n",
      "    posix.h:14:29: note: in expansion of macro 'PyVarObject_HEAD_INIT'\n",
      "     #define PY_OBJECT_HEAD_INIT PyVarObject_HEAD_INIT(&PyType_Type, 0)\n",
      "                                 ^\n",
      "    AutomatonItemsIter.c:294:5: note: in expansion of macro 'PY_OBJECT_HEAD_INIT'\n",
      "         PY_OBJECT_HEAD_INIT\n",
      "         ^\n",
      "    posix.h:14:51: error: initializer element is not constant\n",
      "     #define PY_OBJECT_HEAD_INIT PyVarObject_HEAD_INIT(&PyType_Type, 0)\n",
      "                                                       ^\n",
      "    C:\\Users\\dell\\anaconda3\\include/object.h:85:8: note: in definition of macro 'PyObject_HEAD_INIT'\n",
      "         1, type },\n",
      "            ^\n",
      "    posix.h:14:29: note: in expansion of macro 'PyVarObject_HEAD_INIT'\n",
      "     #define PY_OBJECT_HEAD_INIT PyVarObject_HEAD_INIT(&PyType_Type, 0)\n",
      "                                 ^\n",
      "    AutomatonSearchIter.c:385:5: note: in expansion of macro 'PY_OBJECT_HEAD_INIT'\n",
      "         PY_OBJECT_HEAD_INIT\n",
      "         ^\n",
      "    posix.h:14:51: note: (near initialization for 'automaton_search_iter_type.ob_base.ob_base.ob_type')\n",
      "     #define PY_OBJECT_HEAD_INIT PyVarObject_HEAD_INIT(&PyType_Type, 0)\n",
      "                                                       ^\n",
      "    C:\\Users\\dell\\anaconda3\\include/object.h:85:8: note: in definition of macro 'PyObject_HEAD_INIT'\n",
      "         1, type },\n",
      "            ^\n",
      "    posix.h:14:29: note: in expansion of macro 'PyVarObject_HEAD_INIT'\n",
      "     #define PY_OBJECT_HEAD_INIT PyVarObject_HEAD_INIT(&PyType_Type, 0)\n",
      "                                 ^\n",
      "    AutomatonSearchIter.c:385:5: note: in expansion of macro 'PY_OBJECT_HEAD_INIT'\n",
      "         PY_OBJECT_HEAD_INIT\n",
      "         ^\n",
      "    posix.h:14:51: error: initializer element is not constant\n",
      "     #define PY_OBJECT_HEAD_INIT PyVarObject_HEAD_INIT(&PyType_Type, 0)\n",
      "                                                       ^\n",
      "    C:\\Users\\dell\\anaconda3\\include/object.h:85:8: note: in definition of macro 'PyObject_HEAD_INIT'\n",
      "         1, type },\n",
      "            ^\n",
      "    posix.h:14:29: note: in expansion of macro 'PyVarObject_HEAD_INIT'\n",
      "     #define PY_OBJECT_HEAD_INIT PyVarObject_HEAD_INIT(&PyType_Type, 0)\n",
      "                                 ^\n",
      "    AutomatonSearchIterLong.c:229:5: note: in expansion of macro 'PY_OBJECT_HEAD_INIT'\n",
      "         PY_OBJECT_HEAD_INIT\n",
      "         ^\n",
      "    posix.h:14:51: note: (near initialization for 'automaton_search_iter_long_type.ob_base.ob_base.ob_type')\n",
      "     #define PY_OBJECT_HEAD_INIT PyVarObject_HEAD_INIT(&PyType_Type, 0)\n",
      "                                                       ^\n",
      "    C:\\Users\\dell\\anaconda3\\include/object.h:85:8: note: in definition of macro 'PyObject_HEAD_INIT'\n",
      "         1, type },\n",
      "            ^\n",
      "    posix.h:14:29: note: in expansion of macro 'PyVarObject_HEAD_INIT'\n",
      "     #define PY_OBJECT_HEAD_INIT PyVarObject_HEAD_INIT(&PyType_Type, 0)\n",
      "                                 ^\n",
      "    AutomatonSearchIterLong.c:229:5: note: in expansion of macro 'PY_OBJECT_HEAD_INIT'\n",
      "         PY_OBJECT_HEAD_INIT\n",
      "         ^\n",
      "    In file included from allsources.c:5:0,\n",
      "                     from pyahocorasick.c:36:\n",
      "    src/custompickle/load/loadbuffer.c: In function 'loadbuffer_init':\n",
      "    src/custompickle/load/loadbuffer.c:68:30: warning: overflow in implicit constant conversion [-Woverflow]\n",
      "         ret = fseek(input->file, -sizeof(CustompickleFooter), SEEK_END);\n",
      "                                  ^\n",
      "    error: command 'C:\\\\Users\\\\dell\\\\anaconda3\\\\Library\\\\mingw-w64\\\\bin\\\\gcc.exe' failed with exit status 1\n",
      "    ----------------------------------------\n",
      "ERROR: Command errored out with exit status 1: 'C:\\Users\\dell\\anaconda3\\python.exe' -u -c 'import sys, setuptools, tokenize; sys.argv[0] = '\"'\"'C:\\\\Users\\\\dell\\\\AppData\\\\Local\\\\Temp\\\\pip-install-k23wy3r2\\\\pyahocorasick\\\\setup.py'\"'\"'; __file__='\"'\"'C:\\\\Users\\\\dell\\\\AppData\\\\Local\\\\Temp\\\\pip-install-k23wy3r2\\\\pyahocorasick\\\\setup.py'\"'\"';f=getattr(tokenize, '\"'\"'open'\"'\"', open)(__file__);code=f.read().replace('\"'\"'\\r\\n'\"'\"', '\"'\"'\\n'\"'\"');f.close();exec(compile(code, __file__, '\"'\"'exec'\"'\"'))' install --record 'C:\\Users\\dell\\AppData\\Local\\Temp\\pip-record-ggozn8v6\\install-record.txt' --single-version-externally-managed --compile --install-headers 'C:\\Users\\dell\\anaconda3\\Include\\pyahocorasick' Check the logs for full command output.\n"
     ]
    },
    {
     "name": "stdout",
     "output_type": "stream",
     "text": [
      "Collecting contractions\n",
      "  Downloading contractions-0.0.48-py2.py3-none-any.whl (6.4 kB)\n",
      "Collecting textsearch>=0.0.21\n",
      "  Using cached textsearch-0.0.21-py2.py3-none-any.whl (7.5 kB)\n",
      "Collecting pyahocorasick\n",
      "  Using cached pyahocorasick-1.4.2.tar.gz (321 kB)\n",
      "Collecting anyascii"
     ]
    },
    {
     "name": "stderr",
     "output_type": "stream",
     "text": [
      "  ERROR: Command errored out with exit status 1:\n",
      "   command: 'C:\\Users\\dell\\anaconda3\\python.exe' -u -c 'import sys, setuptools, tokenize; sys.argv[0] = '\"'\"'C:\\\\Users\\\\dell\\\\AppData\\\\Local\\\\Temp\\\\pip-install-lyqq6lfk\\\\pyahocorasick\\\\setup.py'\"'\"'; __file__='\"'\"'C:\\\\Users\\\\dell\\\\AppData\\\\Local\\\\Temp\\\\pip-install-lyqq6lfk\\\\pyahocorasick\\\\setup.py'\"'\"';f=getattr(tokenize, '\"'\"'open'\"'\"', open)(__file__);code=f.read().replace('\"'\"'\\r\\n'\"'\"', '\"'\"'\\n'\"'\"');f.close();exec(compile(code, __file__, '\"'\"'exec'\"'\"'))' bdist_wheel -d 'C:\\Users\\dell\\AppData\\Local\\Temp\\pip-wheel-w46237um'\n",
      "       cwd: C:\\Users\\dell\\AppData\\Local\\Temp\\pip-install-lyqq6lfk\\pyahocorasick\\\n",
      "  Complete output (115 lines):\n",
      "  running bdist_wheel\n",
      "  running build\n",
      "  running build_ext\n",
      "  building 'ahocorasick' extension\n",
      "  creating build\n",
      "  creating build\\temp.win-amd64-3.8\n",
      "  creating build\\temp.win-amd64-3.8\\Release\n",
      "  C:\\Users\\dell\\anaconda3\\Library\\mingw-w64\\bin\\gcc.exe -mdll -O -Wall -DMS_WIN64 -DAHOCORASICK_UNICODE= -IC:\\Users\\dell\\anaconda3\\include -IC:\\Users\\dell\\anaconda3\\include -c pyahocorasick.c -o build\\temp.win-amd64-3.8\\Release\\pyahocorasick.o\n",
      "  In file included from C:\\Users\\dell\\anaconda3\\include/pytime.h:6:0,\n",
      "                   from C:\\Users\\dell\\anaconda3\\include/Python.h:85,\n",
      "                   from common.h:15,\n",
      "                   from pyahocorasick.c:13:\n",
      "  posix.h:14:51: error: initializer element is not constant\n",
      "   #define PY_OBJECT_HEAD_INIT PyVarObject_HEAD_INIT(&PyType_Type, 0)\n",
      "                                                     ^\n",
      "  C:\\Users\\dell\\anaconda3\\include/object.h:85:8: note: in definition of macro 'PyObject_HEAD_INIT'\n",
      "       1, type },\n",
      "          ^\n",
      "  posix.h:14:29: note: in expansion of macro 'PyVarObject_HEAD_INIT'\n",
      "   #define PY_OBJECT_HEAD_INIT PyVarObject_HEAD_INIT(&PyType_Type, 0)\n",
      "                               ^\n",
      "  Automaton.c:1259:5: note: in expansion of macro 'PY_OBJECT_HEAD_INIT'\n",
      "       PY_OBJECT_HEAD_INIT\n",
      "       ^\n",
      "  posix.h:14:51: note: (near initialization for 'automaton_type.ob_base.ob_base.ob_type')\n",
      "   #define PY_OBJECT_HEAD_INIT PyVarObject_HEAD_INIT(&PyType_Type, 0)\n",
      "                                                     ^\n",
      "  C:\\Users\\dell\\anaconda3\\include/object.h:85:8: note: in definition of macro 'PyObject_HEAD_INIT'\n",
      "       1, type },\n",
      "          ^\n",
      "  posix.h:14:29: note: in expansion of macro 'PyVarObject_HEAD_INIT'\n",
      "   #define PY_OBJECT_HEAD_INIT PyVarObject_HEAD_INIT(&PyType_Type, 0)\n",
      "                               ^\n",
      "  Automaton.c:1259:5: note: in expansion of macro 'PY_OBJECT_HEAD_INIT'\n",
      "       PY_OBJECT_HEAD_INIT\n",
      "       ^\n",
      "  posix.h:14:51: error: initializer element is not constant\n",
      "   #define PY_OBJECT_HEAD_INIT PyVarObject_HEAD_INIT(&PyType_Type, 0)\n",
      "                                                     ^\n",
      "  C:\\Users\\dell\\anaconda3\\include/object.h:85:8: note: in definition of macro 'PyObject_HEAD_INIT'\n",
      "       1, type },\n",
      "          ^\n",
      "  posix.h:14:29: note: in expansion of macro 'PyVarObject_HEAD_INIT'\n",
      "   #define PY_OBJECT_HEAD_INIT PyVarObject_HEAD_INIT(&PyType_Type, 0)\n",
      "                               ^\n",
      "  AutomatonItemsIter.c:294:5: note: in expansion of macro 'PY_OBJECT_HEAD_INIT'\n",
      "       PY_OBJECT_HEAD_INIT\n",
      "       ^\n",
      "  posix.h:14:51: note: (near initialization for 'automaton_items_iter_type.ob_base.ob_base.ob_type')\n",
      "   #define PY_OBJECT_HEAD_INIT PyVarObject_HEAD_INIT(&PyType_Type, 0)\n",
      "                                                     ^\n",
      "  C:\\Users\\dell\\anaconda3\\include/object.h:85:8: note: in definition of macro 'PyObject_HEAD_INIT'\n",
      "       1, type },\n",
      "          ^\n",
      "  posix.h:14:29: note: in expansion of macro 'PyVarObject_HEAD_INIT'\n",
      "   #define PY_OBJECT_HEAD_INIT PyVarObject_HEAD_INIT(&PyType_Type, 0)\n",
      "                               ^\n",
      "  AutomatonItemsIter.c:294:5: note: in expansion of macro 'PY_OBJECT_HEAD_INIT'\n",
      "       PY_OBJECT_HEAD_INIT\n",
      "       ^\n",
      "  posix.h:14:51: error: initializer element is not constant\n",
      "   #define PY_OBJECT_HEAD_INIT PyVarObject_HEAD_INIT(&PyType_Type, 0)\n",
      "                                                     ^\n",
      "  C:\\Users\\dell\\anaconda3\\include/object.h:85:8: note: in definition of macro 'PyObject_HEAD_INIT'\n",
      "       1, type },\n",
      "          ^\n",
      "  posix.h:14:29: note: in expansion of macro 'PyVarObject_HEAD_INIT'\n",
      "   #define PY_OBJECT_HEAD_INIT PyVarObject_HEAD_INIT(&PyType_Type, 0)\n",
      "                               ^\n",
      "  AutomatonSearchIter.c:385:5: note: in expansion of macro 'PY_OBJECT_HEAD_INIT'\n",
      "       PY_OBJECT_HEAD_INIT\n",
      "       ^\n",
      "  posix.h:14:51: note: (near initialization for 'automaton_search_iter_type.ob_base.ob_base.ob_type')\n",
      "   #define PY_OBJECT_HEAD_INIT PyVarObject_HEAD_INIT(&PyType_Type, 0)\n",
      "                                                     ^\n",
      "  C:\\Users\\dell\\anaconda3\\include/object.h:85:8: note: in definition of macro 'PyObject_HEAD_INIT'\n",
      "       1, type },\n",
      "          ^\n",
      "  posix.h:14:29: note: in expansion of macro 'PyVarObject_HEAD_INIT'\n",
      "   #define PY_OBJECT_HEAD_INIT PyVarObject_HEAD_INIT(&PyType_Type, 0)\n",
      "                               ^\n",
      "  AutomatonSearchIter.c:385:5: note: in expansion of macro 'PY_OBJECT_HEAD_INIT'\n",
      "       PY_OBJECT_HEAD_INIT\n",
      "       ^\n",
      "  posix.h:14:51: error: initializer element is not constant\n",
      "   #define PY_OBJECT_HEAD_INIT PyVarObject_HEAD_INIT(&PyType_Type, 0)\n",
      "                                                     ^\n",
      "  C:\\Users\\dell\\anaconda3\\include/object.h:85:8: note: in definition of macro 'PyObject_HEAD_INIT'\n",
      "       1, type },\n",
      "          ^\n",
      "  posix.h:14:29: note: in expansion of macro 'PyVarObject_HEAD_INIT'\n",
      "   #define PY_OBJECT_HEAD_INIT PyVarObject_HEAD_INIT(&PyType_Type, 0)\n",
      "                               ^\n",
      "  AutomatonSearchIterLong.c:229:5: note: in expansion of macro 'PY_OBJECT_HEAD_INIT'\n",
      "       PY_OBJECT_HEAD_INIT\n",
      "       ^\n",
      "  posix.h:14:51: note: (near initialization for 'automaton_search_iter_long_type.ob_base.ob_base.ob_type')\n",
      "   #define PY_OBJECT_HEAD_INIT PyVarObject_HEAD_INIT(&PyType_Type, 0)\n",
      "                                                     ^\n",
      "  C:\\Users\\dell\\anaconda3\\include/object.h:85:8: note: in definition of macro 'PyObject_HEAD_INIT'\n",
      "       1, type },\n",
      "          ^\n",
      "  posix.h:14:29: note: in expansion of macro 'PyVarObject_HEAD_INIT'\n",
      "   #define PY_OBJECT_HEAD_INIT PyVarObject_HEAD_INIT(&PyType_Type, 0)\n",
      "                               ^\n",
      "  AutomatonSearchIterLong.c:229:5: note: in expansion of macro 'PY_OBJECT_HEAD_INIT'\n",
      "       PY_OBJECT_HEAD_INIT\n",
      "       ^\n",
      "  In file included from allsources.c:5:0,\n",
      "                   from pyahocorasick.c:36:\n",
      "  src/custompickle/load/loadbuffer.c: In function 'loadbuffer_init':\n",
      "  src/custompickle/load/loadbuffer.c:68:30: warning: overflow in implicit constant conversion [-Woverflow]\n",
      "       ret = fseek(input->file, -sizeof(CustompickleFooter), SEEK_END);\n",
      "                                ^\n",
      "  error: command 'C:\\\\Users\\\\dell\\\\anaconda3\\\\Library\\\\mingw-w64\\\\bin\\\\gcc.exe' failed with exit status 1\n",
      "  ----------------------------------------\n",
      "  ERROR: Failed building wheel for pyahocorasick\n",
      "    ERROR: Command errored out with exit status 1:\n",
      "     command: 'C:\\Users\\dell\\anaconda3\\python.exe' -u -c 'import sys, setuptools, tokenize; sys.argv[0] = '\"'\"'C:\\\\Users\\\\dell\\\\AppData\\\\Local\\\\Temp\\\\pip-install-lyqq6lfk\\\\pyahocorasick\\\\setup.py'\"'\"'; __file__='\"'\"'C:\\\\Users\\\\dell\\\\AppData\\\\Local\\\\Temp\\\\pip-install-lyqq6lfk\\\\pyahocorasick\\\\setup.py'\"'\"';f=getattr(tokenize, '\"'\"'open'\"'\"', open)(__file__);code=f.read().replace('\"'\"'\\r\\n'\"'\"', '\"'\"'\\n'\"'\"');f.close();exec(compile(code, __file__, '\"'\"'exec'\"'\"'))' install --record 'C:\\Users\\dell\\AppData\\Local\\Temp\\pip-record-myfn68gk\\install-record.txt' --single-version-externally-managed --compile --install-headers 'C:\\Users\\dell\\anaconda3\\Include\\pyahocorasick'\n",
      "         cwd: C:\\Users\\dell\\AppData\\Local\\Temp\\pip-install-lyqq6lfk\\pyahocorasick\\\n",
      "    Complete output (115 lines):\n",
      "    running install\n",
      "    running build\n",
      "    running build_ext\n",
      "    building 'ahocorasick' extension\n",
      "    creating build\n",
      "    creating build\\temp.win-amd64-3.8\n",
      "    creating build\\temp.win-amd64-3.8\\Release\n",
      "    C:\\Users\\dell\\anaconda3\\Library\\mingw-w64\\bin\\gcc.exe -mdll -O -Wall -DMS_WIN64 -DAHOCORASICK_UNICODE= -IC:\\Users\\dell\\anaconda3\\include -IC:\\Users\\dell\\anaconda3\\include -c pyahocorasick.c -o build\\temp.win-amd64-3.8\\Release\\pyahocorasick.o\n",
      "    In file included from C:\\Users\\dell\\anaconda3\\include/pytime.h:6:0,\n",
      "                     from C:\\Users\\dell\\anaconda3\\include/Python.h:85,\n",
      "                     from common.h:15,\n",
      "                     from pyahocorasick.c:13:\n",
      "    posix.h:14:51: error: initializer element is not constant\n",
      "     #define PY_OBJECT_HEAD_INIT PyVarObject_HEAD_INIT(&PyType_Type, 0)\n",
      "                                                       ^\n",
      "    C:\\Users\\dell\\anaconda3\\include/object.h:85:8: note: in definition of macro 'PyObject_HEAD_INIT'\n",
      "         1, type },\n",
      "            ^\n",
      "    posix.h:14:29: note: in expansion of macro 'PyVarObject_HEAD_INIT'\n",
      "     #define PY_OBJECT_HEAD_INIT PyVarObject_HEAD_INIT(&PyType_Type, 0)\n",
      "                                 ^\n",
      "    Automaton.c:1259:5: note: in expansion of macro 'PY_OBJECT_HEAD_INIT'\n",
      "         PY_OBJECT_HEAD_INIT\n",
      "         ^\n",
      "    posix.h:14:51: note: (near initialization for 'automaton_type.ob_base.ob_base.ob_type')\n",
      "     #define PY_OBJECT_HEAD_INIT PyVarObject_HEAD_INIT(&PyType_Type, 0)\n",
      "                                                       ^\n",
      "    C:\\Users\\dell\\anaconda3\\include/object.h:85:8: note: in definition of macro 'PyObject_HEAD_INIT'\n",
      "         1, type },\n",
      "            ^\n",
      "    posix.h:14:29: note: in expansion of macro 'PyVarObject_HEAD_INIT'\n",
      "     #define PY_OBJECT_HEAD_INIT PyVarObject_HEAD_INIT(&PyType_Type, 0)\n",
      "                                 ^\n",
      "    Automaton.c:1259:5: note: in expansion of macro 'PY_OBJECT_HEAD_INIT'\n",
      "         PY_OBJECT_HEAD_INIT\n",
      "         ^\n",
      "    posix.h:14:51: error: initializer element is not constant\n",
      "     #define PY_OBJECT_HEAD_INIT PyVarObject_HEAD_INIT(&PyType_Type, 0)\n",
      "                                                       ^\n",
      "    C:\\Users\\dell\\anaconda3\\include/object.h:85:8: note: in definition of macro 'PyObject_HEAD_INIT'\n",
      "         1, type },\n",
      "            ^\n",
      "    posix.h:14:29: note: in expansion of macro 'PyVarObject_HEAD_INIT'\n",
      "     #define PY_OBJECT_HEAD_INIT PyVarObject_HEAD_INIT(&PyType_Type, 0)\n",
      "                                 ^\n",
      "    AutomatonItemsIter.c:294:5: note: in expansion of macro 'PY_OBJECT_HEAD_INIT'\n",
      "         PY_OBJECT_HEAD_INIT\n",
      "         ^\n",
      "    posix.h:14:51: note: (near initialization for 'automaton_items_iter_type.ob_base.ob_base.ob_type')\n",
      "     #define PY_OBJECT_HEAD_INIT PyVarObject_HEAD_INIT(&PyType_Type, 0)\n",
      "                                                       ^\n",
      "    C:\\Users\\dell\\anaconda3\\include/object.h:85:8: note: in definition of macro 'PyObject_HEAD_INIT'\n",
      "         1, type },\n",
      "            ^\n",
      "    posix.h:14:29: note: in expansion of macro 'PyVarObject_HEAD_INIT'\n",
      "     #define PY_OBJECT_HEAD_INIT PyVarObject_HEAD_INIT(&PyType_Type, 0)\n",
      "                                 ^\n",
      "    AutomatonItemsIter.c:294:5: note: in expansion of macro 'PY_OBJECT_HEAD_INIT'\n",
      "         PY_OBJECT_HEAD_INIT\n",
      "         ^\n",
      "    posix.h:14:51: error: initializer element is not constant\n",
      "     #define PY_OBJECT_HEAD_INIT PyVarObject_HEAD_INIT(&PyType_Type, 0)\n",
      "                                                       ^\n",
      "    C:\\Users\\dell\\anaconda3\\include/object.h:85:8: note: in definition of macro 'PyObject_HEAD_INIT'\n",
      "         1, type },\n",
      "            ^\n",
      "    posix.h:14:29: note: in expansion of macro 'PyVarObject_HEAD_INIT'\n",
      "     #define PY_OBJECT_HEAD_INIT PyVarObject_HEAD_INIT(&PyType_Type, 0)\n",
      "                                 ^\n",
      "    AutomatonSearchIter.c:385:5: note: in expansion of macro 'PY_OBJECT_HEAD_INIT'\n",
      "         PY_OBJECT_HEAD_INIT\n",
      "         ^\n",
      "    posix.h:14:51: note: (near initialization for 'automaton_search_iter_type.ob_base.ob_base.ob_type')\n",
      "     #define PY_OBJECT_HEAD_INIT PyVarObject_HEAD_INIT(&PyType_Type, 0)\n",
      "                                                       ^\n",
      "    C:\\Users\\dell\\anaconda3\\include/object.h:85:8: note: in definition of macro 'PyObject_HEAD_INIT'\n",
      "         1, type },\n",
      "            ^\n",
      "    posix.h:14:29: note: in expansion of macro 'PyVarObject_HEAD_INIT'\n",
      "     #define PY_OBJECT_HEAD_INIT PyVarObject_HEAD_INIT(&PyType_Type, 0)\n",
      "                                 ^\n",
      "    AutomatonSearchIter.c:385:5: note: in expansion of macro 'PY_OBJECT_HEAD_INIT'\n",
      "         PY_OBJECT_HEAD_INIT\n",
      "         ^\n",
      "    posix.h:14:51: error: initializer element is not constant\n",
      "     #define PY_OBJECT_HEAD_INIT PyVarObject_HEAD_INIT(&PyType_Type, 0)\n",
      "                                                       ^\n",
      "    C:\\Users\\dell\\anaconda3\\include/object.h:85:8: note: in definition of macro 'PyObject_HEAD_INIT'\n",
      "         1, type },\n",
      "            ^\n",
      "    posix.h:14:29: note: in expansion of macro 'PyVarObject_HEAD_INIT'\n",
      "     #define PY_OBJECT_HEAD_INIT PyVarObject_HEAD_INIT(&PyType_Type, 0)\n",
      "                                 ^\n",
      "    AutomatonSearchIterLong.c:229:5: note: in expansion of macro 'PY_OBJECT_HEAD_INIT'\n",
      "         PY_OBJECT_HEAD_INIT\n",
      "         ^\n",
      "    posix.h:14:51: note: (near initialization for 'automaton_search_iter_long_type.ob_base.ob_base.ob_type')\n",
      "     #define PY_OBJECT_HEAD_INIT PyVarObject_HEAD_INIT(&PyType_Type, 0)\n",
      "                                                       ^\n",
      "    C:\\Users\\dell\\anaconda3\\include/object.h:85:8: note: in definition of macro 'PyObject_HEAD_INIT'\n",
      "         1, type },\n",
      "            ^\n",
      "    posix.h:14:29: note: in expansion of macro 'PyVarObject_HEAD_INIT'\n",
      "     #define PY_OBJECT_HEAD_INIT PyVarObject_HEAD_INIT(&PyType_Type, 0)\n",
      "                                 ^\n",
      "    AutomatonSearchIterLong.c:229:5: note: in expansion of macro 'PY_OBJECT_HEAD_INIT'\n",
      "         PY_OBJECT_HEAD_INIT\n",
      "         ^\n",
      "    In file included from allsources.c:5:0,\n",
      "                     from pyahocorasick.c:36:\n",
      "    src/custompickle/load/loadbuffer.c: In function 'loadbuffer_init':\n",
      "    src/custompickle/load/loadbuffer.c:68:30: warning: overflow in implicit constant conversion [-Woverflow]\n",
      "         ret = fseek(input->file, -sizeof(CustompickleFooter), SEEK_END);\n",
      "                                  ^\n",
      "    error: command 'C:\\\\Users\\\\dell\\\\anaconda3\\\\Library\\\\mingw-w64\\\\bin\\\\gcc.exe' failed with exit status 1\n",
      "    ----------------------------------------\n",
      "ERROR: Command errored out with exit status 1: 'C:\\Users\\dell\\anaconda3\\python.exe' -u -c 'import sys, setuptools, tokenize; sys.argv[0] = '\"'\"'C:\\\\Users\\\\dell\\\\AppData\\\\Local\\\\Temp\\\\pip-install-lyqq6lfk\\\\pyahocorasick\\\\setup.py'\"'\"'; __file__='\"'\"'C:\\\\Users\\\\dell\\\\AppData\\\\Local\\\\Temp\\\\pip-install-lyqq6lfk\\\\pyahocorasick\\\\setup.py'\"'\"';f=getattr(tokenize, '\"'\"'open'\"'\"', open)(__file__);code=f.read().replace('\"'\"'\\r\\n'\"'\"', '\"'\"'\\n'\"'\"');f.close();exec(compile(code, __file__, '\"'\"'exec'\"'\"'))' install --record 'C:\\Users\\dell\\AppData\\Local\\Temp\\pip-record-myfn68gk\\install-record.txt' --single-version-externally-managed --compile --install-headers 'C:\\Users\\dell\\anaconda3\\Include\\pyahocorasick' Check the logs for full command output.\n"
     ]
    },
    {
     "name": "stdout",
     "output_type": "stream",
     "text": [
      "\n",
      "  Using cached anyascii-0.1.7-py3-none-any.whl (260 kB)\n",
      "Building wheels for collected packages: pyahocorasick\n",
      "  Building wheel for pyahocorasick (setup.py): started\n",
      "  Building wheel for pyahocorasick (setup.py): finished with status 'error'\n",
      "  Running setup.py clean for pyahocorasick\n",
      "Failed to build pyahocorasick\n",
      "Installing collected packages: pyahocorasick, anyascii, textsearch, contractions\n",
      "    Running setup.py install for pyahocorasick: started\n",
      "    Running setup.py install for pyahocorasick: finished with status 'error'\n",
      "Requirement already satisfied: tqdm in c:\\users\\dell\\anaconda3\\lib\\site-packages (4.47.0)\n"
     ]
    }
   ],
   "source": [
    "!pip install textsearch\n",
    "!pip install contractions\n",
    "!pip install tqdm"
   ]
  },
  {
   "cell_type": "markdown",
   "metadata": {},
   "source": [
    "# To \"Install Contractions\" without errors you need to do the following first \n",
    "    \n",
    "    1) Open Powershell prompt from Anaconda Navigator\n",
    "    2) Run the below commands\n",
    "        a) conda config --add channels conda-forge\n",
    "        b) conda install pyahocorasick\n",
    "    \n",
    "    \n",
    "\n",
    "        "
   ]
  },
  {
   "cell_type": "code",
   "execution_count": 22,
   "metadata": {},
   "outputs": [
    {
     "name": "stdout",
     "output_type": "stream",
     "text": [
      "Collecting contractions\n",
      "  Using cached contractions-0.0.48-py2.py3-none-any.whl (6.4 kB)\n",
      "Collecting textsearch>=0.0.21\n",
      "  Using cached textsearch-0.0.21-py2.py3-none-any.whl (7.5 kB)\n",
      "Requirement already satisfied: pyahocorasick in c:\\users\\dell\\anaconda3\\lib\\site-packages (from textsearch>=0.0.21->contractions) (1.4.0)\n",
      "Collecting anyascii\n",
      "  Using cached anyascii-0.1.7-py3-none-any.whl (260 kB)\n",
      "Installing collected packages: anyascii, textsearch, contractions\n",
      "Successfully installed anyascii-0.1.7 contractions-0.0.48 textsearch-0.0.21\n"
     ]
    }
   ],
   "source": [
    "!pip install contractions"
   ]
  },
  {
   "cell_type": "code",
   "execution_count": 23,
   "metadata": {},
   "outputs": [
    {
     "name": "stdout",
     "output_type": "stream",
     "text": [
      "Requirement already satisfied: tqdm in c:\\users\\dell\\anaconda3\\lib\\site-packages (4.47.0)\n"
     ]
    }
   ],
   "source": [
    "!pip install tqdm"
   ]
  },
  {
   "cell_type": "code",
   "execution_count": 10,
   "metadata": {},
   "outputs": [
    {
     "name": "stderr",
     "output_type": "stream",
     "text": [
      "[nltk_data] Downloading package punkt to\n",
      "[nltk_data]     C:\\Users\\dell\\AppData\\Roaming\\nltk_data...\n",
      "[nltk_data]   Unzipping tokenizers\\punkt.zip.\n",
      "[nltk_data] Downloading package stopwords to\n",
      "[nltk_data]     C:\\Users\\dell\\AppData\\Roaming\\nltk_data...\n",
      "[nltk_data]   Unzipping corpora\\stopwords.zip.\n"
     ]
    },
    {
     "data": {
      "text/plain": [
       "True"
      ]
     },
     "execution_count": 10,
     "metadata": {},
     "output_type": "execute_result"
    }
   ],
   "source": [
    "import nltk\n",
    "nltk.download('punkt')\n",
    "nltk.download('stopwords')"
   ]
  },
  {
   "cell_type": "code",
   "execution_count": 11,
   "metadata": {},
   "outputs": [
    {
     "name": "stderr",
     "output_type": "stream",
     "text": [
      "C:\\Users\\dell\\anaconda3\\python.exe: No module named spacy\n"
     ]
    }
   ],
   "source": [
    "!python -m spacy validate"
   ]
  },
  {
   "cell_type": "code",
   "execution_count": 12,
   "metadata": {},
   "outputs": [
    {
     "name": "stdout",
     "output_type": "stream",
     "text": [
      "Collecting spacy\n",
      "  Downloading spacy-3.0.5-cp38-cp38-win_amd64.whl (11.8 MB)\n",
      "Requirement already satisfied: jinja2 in c:\\users\\dell\\anaconda3\\lib\\site-packages (from spacy) (2.11.2)\n",
      "Collecting cymem<2.1.0,>=2.0.2\n",
      "  Downloading cymem-2.0.5-cp38-cp38-win_amd64.whl (36 kB)\n",
      "Collecting pathy>=0.3.5\n",
      "  Downloading pathy-0.4.0-py3-none-any.whl (36 kB)\n",
      "Requirement already satisfied: numpy>=1.15.0 in c:\\users\\dell\\anaconda3\\lib\\site-packages (from spacy) (1.19.3)\n",
      "Collecting blis<0.8.0,>=0.4.0\n",
      "  Downloading blis-0.7.4-cp38-cp38-win_amd64.whl (6.5 MB)\n",
      "Collecting spacy-legacy<3.1.0,>=3.0.0\n",
      "  Downloading spacy_legacy-3.0.2-py2.py3-none-any.whl (7.8 kB)\n",
      "Collecting preshed<3.1.0,>=3.0.2\n",
      "  Downloading preshed-3.0.5-cp38-cp38-win_amd64.whl (112 kB)\n",
      "Collecting srsly<3.0.0,>=2.4.0\n",
      "  Downloading srsly-2.4.0-cp38-cp38-win_amd64.whl (451 kB)\n",
      "Collecting catalogue<2.1.0,>=2.0.1\n",
      "  Downloading catalogue-2.0.1-py3-none-any.whl (9.6 kB)\n",
      "Requirement already satisfied: packaging>=20.0 in c:\\users\\dell\\anaconda3\\lib\\site-packages (from spacy) (20.4)\n",
      "Collecting pydantic<1.8.0,>=1.7.1\n",
      "  Downloading pydantic-1.7.3-cp38-cp38-win_amd64.whl (1.8 MB)\n",
      "Requirement already satisfied: requests<3.0.0,>=2.13.0 in c:\\users\\dell\\anaconda3\\lib\\site-packages (from spacy) (2.24.0)\n",
      "Requirement already satisfied: tqdm<5.0.0,>=4.38.0 in c:\\users\\dell\\anaconda3\\lib\\site-packages (from spacy) (4.47.0)\n",
      "Requirement already satisfied: setuptools in c:\\users\\dell\\anaconda3\\lib\\site-packages (from spacy) (49.2.0.post20200714)\n",
      "Collecting wasabi<1.1.0,>=0.8.1\n",
      "  Downloading wasabi-0.8.2-py3-none-any.whl (23 kB)\n",
      "Collecting thinc<8.1.0,>=8.0.2\n",
      "  Downloading thinc-8.0.2-cp38-cp38-win_amd64.whl (1.0 MB)\n",
      "Collecting murmurhash<1.1.0,>=0.28.0\n",
      "  Downloading murmurhash-1.0.5-cp38-cp38-win_amd64.whl (21 kB)\n",
      "Collecting typer<0.4.0,>=0.3.0\n",
      "  Downloading typer-0.3.2-py3-none-any.whl (21 kB)\n",
      "Requirement already satisfied: MarkupSafe>=0.23 in c:\\users\\dell\\anaconda3\\lib\\site-packages (from jinja2->spacy) (1.1.1)\n",
      "Collecting smart-open<4.0.0,>=2.2.0\n",
      "  Downloading smart_open-3.0.0.tar.gz (113 kB)\n",
      "Requirement already satisfied: six in c:\\users\\dell\\anaconda3\\lib\\site-packages (from packaging>=20.0->spacy) (1.15.0)\n",
      "Requirement already satisfied: pyparsing>=2.0.2 in c:\\users\\dell\\anaconda3\\lib\\site-packages (from packaging>=20.0->spacy) (2.4.7)\n",
      "Requirement already satisfied: urllib3!=1.25.0,!=1.25.1,<1.26,>=1.21.1 in c:\\users\\dell\\anaconda3\\lib\\site-packages (from requests<3.0.0,>=2.13.0->spacy) (1.25.9)\n",
      "Requirement already satisfied: certifi>=2017.4.17 in c:\\users\\dell\\anaconda3\\lib\\site-packages (from requests<3.0.0,>=2.13.0->spacy) (2020.6.20)\n",
      "Requirement already satisfied: idna<3,>=2.5 in c:\\users\\dell\\anaconda3\\lib\\site-packages (from requests<3.0.0,>=2.13.0->spacy) (2.10)\n",
      "Requirement already satisfied: chardet<4,>=3.0.2 in c:\\users\\dell\\anaconda3\\lib\\site-packages (from requests<3.0.0,>=2.13.0->spacy) (3.0.4)\n",
      "Requirement already satisfied: click<7.2.0,>=7.1.1 in c:\\users\\dell\\anaconda3\\lib\\site-packages (from typer<0.4.0,>=0.3.0->spacy) (7.1.2)\n",
      "Building wheels for collected packages: smart-open\n",
      "  Building wheel for smart-open (setup.py): started\n",
      "  Building wheel for smart-open (setup.py): finished with status 'done'\n",
      "  Created wheel for smart-open: filename=smart_open-3.0.0-py3-none-any.whl size=107097 sha256=b57b010f57ab44b78b8b9040d02cb896ca4b019fbe4f89c208c1dd9e8e4db95a\n",
      "  Stored in directory: c:\\users\\dell\\appdata\\local\\pip\\cache\\wheels\\11\\73\\9a\\f91ac1f1816436b16423617c5be5db048697ff152a9c4346f2\n",
      "Successfully built smart-open\n",
      "Installing collected packages: cymem, smart-open, typer, pathy, blis, spacy-legacy, murmurhash, preshed, catalogue, srsly, pydantic, wasabi, thinc, spacy\n",
      "Successfully installed blis-0.7.4 catalogue-2.0.1 cymem-2.0.5 murmurhash-1.0.5 pathy-0.4.0 preshed-3.0.5 pydantic-1.7.3 smart-open-3.0.0 spacy-3.0.5 spacy-legacy-3.0.2 srsly-2.4.0 thinc-8.0.2 typer-0.3.2 wasabi-0.8.2\n"
     ]
    }
   ],
   "source": [
    "!pip install spacy"
   ]
  },
  {
   "cell_type": "code",
   "execution_count": 13,
   "metadata": {},
   "outputs": [
    {
     "name": "stdout",
     "output_type": "stream",
     "text": [
      "\n",
      "| Loading compatibility table...\n",
      "\u001b[2K[+] Loaded compatibility table\n",
      "\u001b[1m\n",
      "================= Installed pipeline packages (spaCy v3.0.5) =================\u001b[0m\n",
      "[i] spaCy installation: C:\\Users\\dell\\anaconda3\\lib\\site-packages\\spacy\n",
      "\n",
      "No pipeline packages found in your current environment.\n",
      "\n"
     ]
    },
    {
     "name": "stderr",
     "output_type": "stream",
     "text": [
      "2021-04-05 13:58:34.492878: W tensorflow/stream_executor/platform/default/dso_loader.cc:60] Could not load dynamic library 'cudart64_110.dll'; dlerror: cudart64_110.dll not found\n",
      "2021-04-05 13:58:34.493221: I tensorflow/stream_executor/cuda/cudart_stub.cc:29] Ignore above cudart dlerror if you do not have a GPU set up on your machine.\n"
     ]
    }
   ],
   "source": [
    "!python -m spacy validate"
   ]
  },
  {
   "cell_type": "code",
   "execution_count": 14,
   "metadata": {},
   "outputs": [
    {
     "name": "stdout",
     "output_type": "stream",
     "text": [
      "Collecting en-core-web-sm==3.0.0\n",
      "  Downloading https://github.com/explosion/spacy-models/releases/download/en_core_web_sm-3.0.0/en_core_web_sm-3.0.0-py3-none-any.whl (13.7 MB)\n",
      "Requirement already satisfied: spacy<3.1.0,>=3.0.0 in c:\\users\\dell\\anaconda3\\lib\\site-packages (from en-core-web-sm==3.0.0) (3.0.5)\n",
      "Requirement already satisfied: thinc<8.1.0,>=8.0.2 in c:\\users\\dell\\anaconda3\\lib\\site-packages (from spacy<3.1.0,>=3.0.0->en-core-web-sm==3.0.0) (8.0.2)\n",
      "Requirement already satisfied: spacy-legacy<3.1.0,>=3.0.0 in c:\\users\\dell\\anaconda3\\lib\\site-packages (from spacy<3.1.0,>=3.0.0->en-core-web-sm==3.0.0) (3.0.2)\n",
      "Requirement already satisfied: preshed<3.1.0,>=3.0.2 in c:\\users\\dell\\anaconda3\\lib\\site-packages (from spacy<3.1.0,>=3.0.0->en-core-web-sm==3.0.0) (3.0.5)\n",
      "Requirement already satisfied: typer<0.4.0,>=0.3.0 in c:\\users\\dell\\anaconda3\\lib\\site-packages (from spacy<3.1.0,>=3.0.0->en-core-web-sm==3.0.0) (0.3.2)\n",
      "Requirement already satisfied: numpy>=1.15.0 in c:\\users\\dell\\anaconda3\\lib\\site-packages (from spacy<3.1.0,>=3.0.0->en-core-web-sm==3.0.0) (1.19.3)\n",
      "Requirement already satisfied: blis<0.8.0,>=0.4.0 in c:\\users\\dell\\anaconda3\\lib\\site-packages (from spacy<3.1.0,>=3.0.0->en-core-web-sm==3.0.0) (0.7.4)\n",
      "Requirement already satisfied: wasabi<1.1.0,>=0.8.1 in c:\\users\\dell\\anaconda3\\lib\\site-packages (from spacy<3.1.0,>=3.0.0->en-core-web-sm==3.0.0) (0.8.2)\n",
      "Requirement already satisfied: pathy>=0.3.5 in c:\\users\\dell\\anaconda3\\lib\\site-packages (from spacy<3.1.0,>=3.0.0->en-core-web-sm==3.0.0) (0.4.0)\n",
      "Requirement already satisfied: catalogue<2.1.0,>=2.0.1 in c:\\users\\dell\\anaconda3\\lib\\site-packages (from spacy<3.1.0,>=3.0.0->en-core-web-sm==3.0.0) (2.0.1)\n",
      "Requirement already satisfied: tqdm<5.0.0,>=4.38.0 in c:\\users\\dell\\anaconda3\\lib\\site-packages (from spacy<3.1.0,>=3.0.0->en-core-web-sm==3.0.0) (4.47.0)\n",
      "Requirement already satisfied: cymem<2.1.0,>=2.0.2 in c:\\users\\dell\\anaconda3\\lib\\site-packages (from spacy<3.1.0,>=3.0.0->en-core-web-sm==3.0.0) (2.0.5)\n",
      "Requirement already satisfied: srsly<3.0.0,>=2.4.0 in c:\\users\\dell\\anaconda3\\lib\\site-packages (from spacy<3.1.0,>=3.0.0->en-core-web-sm==3.0.0) (2.4.0)\n",
      "Requirement already satisfied: pydantic<1.8.0,>=1.7.1 in c:\\users\\dell\\anaconda3\\lib\\site-packages (from spacy<3.1.0,>=3.0.0->en-core-web-sm==3.0.0) (1.7.3)\n",
      "Requirement already satisfied: packaging>=20.0 in c:\\users\\dell\\anaconda3\\lib\\site-packages (from spacy<3.1.0,>=3.0.0->en-core-web-sm==3.0.0) (20.4)\n",
      "Requirement already satisfied: requests<3.0.0,>=2.13.0 in c:\\users\\dell\\anaconda3\\lib\\site-packages (from spacy<3.1.0,>=3.0.0->en-core-web-sm==3.0.0) (2.24.0)\n",
      "Requirement already satisfied: jinja2 in c:\\users\\dell\\anaconda3\\lib\\site-packages (from spacy<3.1.0,>=3.0.0->en-core-web-sm==3.0.0) (2.11.2)\n",
      "Requirement already satisfied: murmurhash<1.1.0,>=0.28.0 in c:\\users\\dell\\anaconda3\\lib\\site-packages (from spacy<3.1.0,>=3.0.0->en-core-web-sm==3.0.0) (1.0.5)\n",
      "Requirement already satisfied: setuptools in c:\\users\\dell\\anaconda3\\lib\\site-packages (from spacy<3.1.0,>=3.0.0->en-core-web-sm==3.0.0) (49.2.0.post20200714)\n",
      "Requirement already satisfied: click<7.2.0,>=7.1.1 in c:\\users\\dell\\anaconda3\\lib\\site-packages (from typer<0.4.0,>=0.3.0->spacy<3.1.0,>=3.0.0->en-core-web-sm==3.0.0) (7.1.2)\n"
     ]
    },
    {
     "name": "stderr",
     "output_type": "stream",
     "text": [
      "2021-04-05 14:01:02.333168: W tensorflow/stream_executor/platform/default/dso_loader.cc:60] Could not load dynamic library 'cudart64_110.dll'; dlerror: cudart64_110.dll not found\n",
      "2021-04-05 14:01:02.333206: I tensorflow/stream_executor/cuda/cudart_stub.cc:29] Ignore above cudart dlerror if you do not have a GPU set up on your machine.\n"
     ]
    },
    {
     "name": "stdout",
     "output_type": "stream",
     "text": [
      "Requirement already satisfied: smart-open<4.0.0,>=2.2.0 in c:\\users\\dell\\anaconda3\\lib\\site-packages (from pathy>=0.3.5->spacy<3.1.0,>=3.0.0->en-core-web-sm==3.0.0) (3.0.0)\n",
      "Requirement already satisfied: six in c:\\users\\dell\\anaconda3\\lib\\site-packages (from packaging>=20.0->spacy<3.1.0,>=3.0.0->en-core-web-sm==3.0.0) (1.15.0)\n",
      "Requirement already satisfied: pyparsing>=2.0.2 in c:\\users\\dell\\anaconda3\\lib\\site-packages (from packaging>=20.0->spacy<3.1.0,>=3.0.0->en-core-web-sm==3.0.0) (2.4.7)\n",
      "Requirement already satisfied: certifi>=2017.4.17 in c:\\users\\dell\\anaconda3\\lib\\site-packages (from requests<3.0.0,>=2.13.0->spacy<3.1.0,>=3.0.0->en-core-web-sm==3.0.0) (2020.6.20)\n",
      "Requirement already satisfied: chardet<4,>=3.0.2 in c:\\users\\dell\\anaconda3\\lib\\site-packages (from requests<3.0.0,>=2.13.0->spacy<3.1.0,>=3.0.0->en-core-web-sm==3.0.0) (3.0.4)\n",
      "Requirement already satisfied: idna<3,>=2.5 in c:\\users\\dell\\anaconda3\\lib\\site-packages (from requests<3.0.0,>=2.13.0->spacy<3.1.0,>=3.0.0->en-core-web-sm==3.0.0) (2.10)\n",
      "Requirement already satisfied: urllib3!=1.25.0,!=1.25.1,<1.26,>=1.21.1 in c:\\users\\dell\\anaconda3\\lib\\site-packages (from requests<3.0.0,>=2.13.0->spacy<3.1.0,>=3.0.0->en-core-web-sm==3.0.0) (1.25.9)\n",
      "Requirement already satisfied: MarkupSafe>=0.23 in c:\\users\\dell\\anaconda3\\lib\\site-packages (from jinja2->spacy<3.1.0,>=3.0.0->en-core-web-sm==3.0.0) (1.1.1)\n",
      "Installing collected packages: en-core-web-sm\n",
      "Successfully installed en-core-web-sm-3.0.0\n",
      "[!] As of spaCy v3.0, shortcuts like 'en' are deprecated. Please use the full\n",
      "pipeline package name 'en_core_web_sm' instead.\n",
      "[+] Download and installation successful\n",
      "You can now load the package via spacy.load('en_core_web_sm')\n"
     ]
    }
   ],
   "source": [
    "!python -m spacy download en"
   ]
  },
  {
   "cell_type": "code",
   "execution_count": 15,
   "metadata": {},
   "outputs": [
    {
     "name": "stdout",
     "output_type": "stream",
     "text": [
      "\n",
      "| Loading compatibility table...\n",
      "\u001b[2K[+] Loaded compatibility table\n",
      "\u001b[1m\n",
      "================= Installed pipeline packages (spaCy v3.0.5) =================\u001b[0m\n",
      "[i] spaCy installation: C:\\Users\\dell\\anaconda3\\lib\\site-packages\\spacy\n",
      "\n",
      "NAME             SPACY            VERSION      \n",
      "en_core_web_sm   >=3.0.0,<3.1.0   3.0.0     [+]\n",
      "\n"
     ]
    },
    {
     "name": "stderr",
     "output_type": "stream",
     "text": [
      "2021-04-05 14:02:00.892609: W tensorflow/stream_executor/platform/default/dso_loader.cc:60] Could not load dynamic library 'cudart64_110.dll'; dlerror: cudart64_110.dll not found\n",
      "2021-04-05 14:02:00.892663: I tensorflow/stream_executor/cuda/cudart_stub.cc:29] Ignore above cudart dlerror if you do not have a GPU set up on your machine.\n"
     ]
    }
   ],
   "source": [
    "!python -m spacy validate"
   ]
  },
  {
   "cell_type": "code",
   "execution_count": 16,
   "metadata": {},
   "outputs": [
    {
     "name": "stdout",
     "output_type": "stream",
     "text": [
      "Collecting en-core-web-md==3.0.0\n",
      "  Downloading https://github.com/explosion/spacy-models/releases/download/en_core_web_md-3.0.0/en_core_web_md-3.0.0-py3-none-any.whl (47.1 MB)\n",
      "Requirement already satisfied: spacy<3.1.0,>=3.0.0 in c:\\users\\dell\\anaconda3\\lib\\site-packages (from en-core-web-md==3.0.0) (3.0.5)\n",
      "Requirement already satisfied: requests<3.0.0,>=2.13.0 in c:\\users\\dell\\anaconda3\\lib\\site-packages (from spacy<3.1.0,>=3.0.0->en-core-web-md==3.0.0) (2.24.0)\n",
      "Requirement already satisfied: numpy>=1.15.0 in c:\\users\\dell\\anaconda3\\lib\\site-packages (from spacy<3.1.0,>=3.0.0->en-core-web-md==3.0.0) (1.19.3)\n",
      "Requirement already satisfied: preshed<3.1.0,>=3.0.2 in c:\\users\\dell\\anaconda3\\lib\\site-packages (from spacy<3.1.0,>=3.0.0->en-core-web-md==3.0.0) (3.0.5)\n",
      "Requirement already satisfied: cymem<2.1.0,>=2.0.2 in c:\\users\\dell\\anaconda3\\lib\\site-packages (from spacy<3.1.0,>=3.0.0->en-core-web-md==3.0.0) (2.0.5)\n",
      "Requirement already satisfied: catalogue<2.1.0,>=2.0.1 in c:\\users\\dell\\anaconda3\\lib\\site-packages (from spacy<3.1.0,>=3.0.0->en-core-web-md==3.0.0) (2.0.1)\n",
      "Requirement already satisfied: pydantic<1.8.0,>=1.7.1 in c:\\users\\dell\\anaconda3\\lib\\site-packages (from spacy<3.1.0,>=3.0.0->en-core-web-md==3.0.0) (1.7.3)\n",
      "Requirement already satisfied: typer<0.4.0,>=0.3.0 in c:\\users\\dell\\anaconda3\\lib\\site-packages (from spacy<3.1.0,>=3.0.0->en-core-web-md==3.0.0) (0.3.2)\n",
      "Requirement already satisfied: pathy>=0.3.5 in c:\\users\\dell\\anaconda3\\lib\\site-packages (from spacy<3.1.0,>=3.0.0->en-core-web-md==3.0.0) (0.4.0)\n",
      "Requirement already satisfied: spacy-legacy<3.1.0,>=3.0.0 in c:\\users\\dell\\anaconda3\\lib\\site-packages (from spacy<3.1.0,>=3.0.0->en-core-web-md==3.0.0) (3.0.2)\n",
      "Requirement already satisfied: packaging>=20.0 in c:\\users\\dell\\anaconda3\\lib\\site-packages (from spacy<3.1.0,>=3.0.0->en-core-web-md==3.0.0) (20.4)\n",
      "Requirement already satisfied: jinja2 in c:\\users\\dell\\anaconda3\\lib\\site-packages (from spacy<3.1.0,>=3.0.0->en-core-web-md==3.0.0) (2.11.2)\n",
      "Requirement already satisfied: murmurhash<1.1.0,>=0.28.0 in c:\\users\\dell\\anaconda3\\lib\\site-packages (from spacy<3.1.0,>=3.0.0->en-core-web-md==3.0.0) (1.0.5)\n",
      "Requirement already satisfied: tqdm<5.0.0,>=4.38.0 in c:\\users\\dell\\anaconda3\\lib\\site-packages (from spacy<3.1.0,>=3.0.0->en-core-web-md==3.0.0) (4.47.0)\n",
      "Requirement already satisfied: setuptools in c:\\users\\dell\\anaconda3\\lib\\site-packages (from spacy<3.1.0,>=3.0.0->en-core-web-md==3.0.0) (49.2.0.post20200714)\n",
      "Requirement already satisfied: thinc<8.1.0,>=8.0.2 in c:\\users\\dell\\anaconda3\\lib\\site-packages (from spacy<3.1.0,>=3.0.0->en-core-web-md==3.0.0) (8.0.2)\n",
      "Requirement already satisfied: blis<0.8.0,>=0.4.0 in c:\\users\\dell\\anaconda3\\lib\\site-packages (from spacy<3.1.0,>=3.0.0->en-core-web-md==3.0.0) (0.7.4)\n",
      "Requirement already satisfied: srsly<3.0.0,>=2.4.0 in c:\\users\\dell\\anaconda3\\lib\\site-packages (from spacy<3.1.0,>=3.0.0->en-core-web-md==3.0.0) (2.4.0)\n",
      "Requirement already satisfied: wasabi<1.1.0,>=0.8.1 in c:\\users\\dell\\anaconda3\\lib\\site-packages (from spacy<3.1.0,>=3.0.0->en-core-web-md==3.0.0) (0.8.2)\n",
      "Requirement already satisfied: certifi>=2017.4.17 in c:\\users\\dell\\anaconda3\\lib\\site-packages (from requests<3.0.0,>=2.13.0->spacy<3.1.0,>=3.0.0->en-core-web-md==3.0.0) (2020.6.20)\n",
      "Requirement already satisfied: urllib3!=1.25.0,!=1.25.1,<1.26,>=1.21.1 in c:\\users\\dell\\anaconda3\\lib\\site-packages (from requests<3.0.0,>=2.13.0->spacy<3.1.0,>=3.0.0->en-core-web-md==3.0.0) (1.25.9)\n",
      "Requirement already satisfied: chardet<4,>=3.0.2 in c:\\users\\dell\\anaconda3\\lib\\site-packages (from requests<3.0.0,>=2.13.0->spacy<3.1.0,>=3.0.0->en-core-web-md==3.0.0) (3.0.4)\n",
      "Requirement already satisfied: idna<3,>=2.5 in c:\\users\\dell\\anaconda3\\lib\\site-packages (from requests<3.0.0,>=2.13.0->spacy<3.1.0,>=3.0.0->en-core-web-md==3.0.0) (2.10)\n",
      "Requirement already satisfied: click<7.2.0,>=7.1.1 in c:\\users\\dell\\anaconda3\\lib\\site-packages (from typer<0.4.0,>=0.3.0->spacy<3.1.0,>=3.0.0->en-core-web-md==3.0.0) (7.1.2)\n",
      "Requirement already satisfied: smart-open<4.0.0,>=2.2.0 in c:\\users\\dell\\anaconda3\\lib\\site-packages (from pathy>=0.3.5->spacy<3.1.0,>=3.0.0->en-core-web-md==3.0.0) (3.0.0)\n"
     ]
    },
    {
     "name": "stderr",
     "output_type": "stream",
     "text": [
      "2021-04-05 14:03:06.524830: W tensorflow/stream_executor/platform/default/dso_loader.cc:60] Could not load dynamic library 'cudart64_110.dll'; dlerror: cudart64_110.dll not found\n",
      "2021-04-05 14:03:06.524861: I tensorflow/stream_executor/cuda/cudart_stub.cc:29] Ignore above cudart dlerror if you do not have a GPU set up on your machine.\n"
     ]
    },
    {
     "name": "stdout",
     "output_type": "stream",
     "text": [
      "Requirement already satisfied: six in c:\\users\\dell\\anaconda3\\lib\\site-packages (from packaging>=20.0->spacy<3.1.0,>=3.0.0->en-core-web-md==3.0.0) (1.15.0)\n",
      "Requirement already satisfied: pyparsing>=2.0.2 in c:\\users\\dell\\anaconda3\\lib\\site-packages (from packaging>=20.0->spacy<3.1.0,>=3.0.0->en-core-web-md==3.0.0) (2.4.7)\n",
      "Requirement already satisfied: MarkupSafe>=0.23 in c:\\users\\dell\\anaconda3\\lib\\site-packages (from jinja2->spacy<3.1.0,>=3.0.0->en-core-web-md==3.0.0) (1.1.1)\n",
      "Installing collected packages: en-core-web-md\n",
      "Successfully installed en-core-web-md-3.0.0\n",
      "[+] Download and installation successful\n",
      "You can now load the package via spacy.load('en_core_web_md')\n"
     ]
    }
   ],
   "source": [
    "!python -m spacy download en_core_web_md"
   ]
  },
  {
   "cell_type": "code",
   "execution_count": 17,
   "metadata": {},
   "outputs": [
    {
     "name": "stdout",
     "output_type": "stream",
     "text": [
      "Collecting en-core-web-lg==3.0.0\n",
      "  Downloading https://github.com/explosion/spacy-models/releases/download/en_core_web_lg-3.0.0/en_core_web_lg-3.0.0-py3-none-any.whl (778.8 MB)\n",
      "Requirement already satisfied: spacy<3.1.0,>=3.0.0 in c:\\users\\dell\\anaconda3\\lib\\site-packages (from en-core-web-lg==3.0.0) (3.0.5)\n",
      "Requirement already satisfied: preshed<3.1.0,>=3.0.2 in c:\\users\\dell\\anaconda3\\lib\\site-packages (from spacy<3.1.0,>=3.0.0->en-core-web-lg==3.0.0) (3.0.5)\n",
      "Requirement already satisfied: thinc<8.1.0,>=8.0.2 in c:\\users\\dell\\anaconda3\\lib\\site-packages (from spacy<3.1.0,>=3.0.0->en-core-web-lg==3.0.0) (8.0.2)\n",
      "Requirement already satisfied: srsly<3.0.0,>=2.4.0 in c:\\users\\dell\\anaconda3\\lib\\site-packages (from spacy<3.1.0,>=3.0.0->en-core-web-lg==3.0.0) (2.4.0)\n",
      "Requirement already satisfied: catalogue<2.1.0,>=2.0.1 in c:\\users\\dell\\anaconda3\\lib\\site-packages (from spacy<3.1.0,>=3.0.0->en-core-web-lg==3.0.0) (2.0.1)\n",
      "Requirement already satisfied: typer<0.4.0,>=0.3.0 in c:\\users\\dell\\anaconda3\\lib\\site-packages (from spacy<3.1.0,>=3.0.0->en-core-web-lg==3.0.0) (0.3.2)\n",
      "Requirement already satisfied: packaging>=20.0 in c:\\users\\dell\\anaconda3\\lib\\site-packages (from spacy<3.1.0,>=3.0.0->en-core-web-lg==3.0.0) (20.4)\n",
      "Requirement already satisfied: requests<3.0.0,>=2.13.0 in c:\\users\\dell\\anaconda3\\lib\\site-packages (from spacy<3.1.0,>=3.0.0->en-core-web-lg==3.0.0) (2.24.0)\n",
      "Requirement already satisfied: pathy>=0.3.5 in c:\\users\\dell\\anaconda3\\lib\\site-packages (from spacy<3.1.0,>=3.0.0->en-core-web-lg==3.0.0) (0.4.0)\n",
      "Requirement already satisfied: wasabi<1.1.0,>=0.8.1 in c:\\users\\dell\\anaconda3\\lib\\site-packages (from spacy<3.1.0,>=3.0.0->en-core-web-lg==3.0.0) (0.8.2)\n",
      "Requirement already satisfied: murmurhash<1.1.0,>=0.28.0 in c:\\users\\dell\\anaconda3\\lib\\site-packages (from spacy<3.1.0,>=3.0.0->en-core-web-lg==3.0.0) (1.0.5)\n",
      "Requirement already satisfied: setuptools in c:\\users\\dell\\anaconda3\\lib\\site-packages (from spacy<3.1.0,>=3.0.0->en-core-web-lg==3.0.0) (49.2.0.post20200714)\n",
      "Requirement already satisfied: blis<0.8.0,>=0.4.0 in c:\\users\\dell\\anaconda3\\lib\\site-packages (from spacy<3.1.0,>=3.0.0->en-core-web-lg==3.0.0) (0.7.4)\n",
      "Requirement already satisfied: pydantic<1.8.0,>=1.7.1 in c:\\users\\dell\\anaconda3\\lib\\site-packages (from spacy<3.1.0,>=3.0.0->en-core-web-lg==3.0.0) (1.7.3)\n",
      "Requirement already satisfied: jinja2 in c:\\users\\dell\\anaconda3\\lib\\site-packages (from spacy<3.1.0,>=3.0.0->en-core-web-lg==3.0.0) (2.11.2)\n",
      "Requirement already satisfied: numpy>=1.15.0 in c:\\users\\dell\\anaconda3\\lib\\site-packages (from spacy<3.1.0,>=3.0.0->en-core-web-lg==3.0.0) (1.19.3)\n",
      "Requirement already satisfied: spacy-legacy<3.1.0,>=3.0.0 in c:\\users\\dell\\anaconda3\\lib\\site-packages (from spacy<3.1.0,>=3.0.0->en-core-web-lg==3.0.0) (3.0.2)\n",
      "Requirement already satisfied: cymem<2.1.0,>=2.0.2 in c:\\users\\dell\\anaconda3\\lib\\site-packages (from spacy<3.1.0,>=3.0.0->en-core-web-lg==3.0.0) (2.0.5)\n",
      "Requirement already satisfied: tqdm<5.0.0,>=4.38.0 in c:\\users\\dell\\anaconda3\\lib\\site-packages (from spacy<3.1.0,>=3.0.0->en-core-web-lg==3.0.0) (4.47.0)\n",
      "Requirement already satisfied: click<7.2.0,>=7.1.1 in c:\\users\\dell\\anaconda3\\lib\\site-packages (from typer<0.4.0,>=0.3.0->spacy<3.1.0,>=3.0.0->en-core-web-lg==3.0.0) (7.1.2)\n",
      "Requirement already satisfied: pyparsing>=2.0.2 in c:\\users\\dell\\anaconda3\\lib\\site-packages (from packaging>=20.0->spacy<3.1.0,>=3.0.0->en-core-web-lg==3.0.0) (2.4.7)\n",
      "Requirement already satisfied: six in c:\\users\\dell\\anaconda3\\lib\\site-packages (from packaging>=20.0->spacy<3.1.0,>=3.0.0->en-core-web-lg==3.0.0) (1.15.0)\n",
      "Requirement already satisfied: certifi>=2017.4.17 in c:\\users\\dell\\anaconda3\\lib\\site-packages (from requests<3.0.0,>=2.13.0->spacy<3.1.0,>=3.0.0->en-core-web-lg==3.0.0) (2020.6.20)\n",
      "Requirement already satisfied: idna<3,>=2.5 in c:\\users\\dell\\anaconda3\\lib\\site-packages (from requests<3.0.0,>=2.13.0->spacy<3.1.0,>=3.0.0->en-core-web-lg==3.0.0) (2.10)\n",
      "Requirement already satisfied: chardet<4,>=3.0.2 in c:\\users\\dell\\anaconda3\\lib\\site-packages (from requests<3.0.0,>=2.13.0->spacy<3.1.0,>=3.0.0->en-core-web-lg==3.0.0) (3.0.4)\n",
      "Requirement already satisfied: urllib3!=1.25.0,!=1.25.1,<1.26,>=1.21.1 in c:\\users\\dell\\anaconda3\\lib\\site-packages (from requests<3.0.0,>=2.13.0->spacy<3.1.0,>=3.0.0->en-core-web-lg==3.0.0) (1.25.9)\n",
      "Requirement already satisfied: smart-open<4.0.0,>=2.2.0 in c:\\users\\dell\\anaconda3\\lib\\site-packages (from pathy>=0.3.5->spacy<3.1.0,>=3.0.0->en-core-web-lg==3.0.0) (3.0.0)\n",
      "Requirement already satisfied: MarkupSafe>=0.23 in c:\\users\\dell\\anaconda3\\lib\\site-packages (from jinja2->spacy<3.1.0,>=3.0.0->en-core-web-lg==3.0.0) (1.1.1)\n",
      "Installing collected packages: en-core-web-lg\n",
      "Successfully installed en-core-web-lg-3.0.0\n",
      "[+] Download and installation successful\n",
      "You can now load the package via spacy.load('en_core_web_lg')\n"
     ]
    },
    {
     "name": "stderr",
     "output_type": "stream",
     "text": [
      "2021-04-05 14:03:34.084454: W tensorflow/stream_executor/platform/default/dso_loader.cc:60] Could not load dynamic library 'cudart64_110.dll'; dlerror: cudart64_110.dll not found\n",
      "2021-04-05 14:03:34.084486: I tensorflow/stream_executor/cuda/cudart_stub.cc:29] Ignore above cudart dlerror if you do not have a GPU set up on your machine.\n"
     ]
    }
   ],
   "source": [
    "!python -m spacy download en_core_web_lg"
   ]
  },
  {
   "cell_type": "code",
   "execution_count": 18,
   "metadata": {},
   "outputs": [
    {
     "name": "stdout",
     "output_type": "stream",
     "text": [
      "\n",
      "| Loading compatibility table...\n",
      "/ Loading compatibility table...\n",
      "- Loading compatibility table...\n",
      "\u001b[2K[+] Loaded compatibility table\n",
      "\u001b[1m\n",
      "================= Installed pipeline packages (spaCy v3.0.5) =================\u001b[0m\n",
      "[i] spaCy installation: C:\\Users\\dell\\anaconda3\\lib\\site-packages\\spacy\n",
      "\n",
      "NAME             SPACY            VERSION      \n",
      "en_core_web_lg   >=3.0.0,<3.1.0   3.0.0     [+]\n",
      "en_core_web_md   >=3.0.0,<3.1.0   3.0.0     [+]\n",
      "en_core_web_sm   >=3.0.0,<3.1.0   3.0.0     [+]\n",
      "\n"
     ]
    },
    {
     "name": "stderr",
     "output_type": "stream",
     "text": [
      "2021-04-05 14:06:37.487019: W tensorflow/stream_executor/platform/default/dso_loader.cc:60] Could not load dynamic library 'cudart64_110.dll'; dlerror: cudart64_110.dll not found\n",
      "2021-04-05 14:06:37.487072: I tensorflow/stream_executor/cuda/cudart_stub.cc:29] Ignore above cudart dlerror if you do not have a GPU set up on your machine.\n"
     ]
    }
   ],
   "source": [
    "!python -m spacy validate"
   ]
  },
  {
   "cell_type": "code",
   "execution_count": 24,
   "metadata": {},
   "outputs": [],
   "source": [
    "import re\n",
    "from bs4 import BeautifulSoup\n",
    "import unicodedata\n",
    "import contractions\n",
    "import spacy\n",
    "import nltk"
   ]
  },
  {
   "cell_type": "code",
   "execution_count": 26,
   "metadata": {},
   "outputs": [],
   "source": [
    "nlp = spacy.load('en_core_web_sm')\n",
    "ps = nltk.porter.PorterStemmer()"
   ]
  },
  {
   "cell_type": "code",
   "execution_count": 27,
   "metadata": {},
   "outputs": [
    {
     "data": {
      "text/plain": [
       "0        #studiolife #aislife #requires #passion #dedic...\n",
       "1         @user #white #supremacists want everyone to s...\n",
       "2        safe ways to heal your #acne!!    #altwaystohe...\n",
       "3        is the hp and the cursed child book up for res...\n",
       "4          3rd #bihday to my amazing, hilarious #nephew...\n",
       "                               ...                        \n",
       "17192    thought factory: left-right polarisation! #tru...\n",
       "17193    feeling like a mermaid ð #hairflip #neverre...\n",
       "17194    #hillary #campaigned today in #ohio((omg)) &am...\n",
       "17195    happy, at work conference: right mindset leads...\n",
       "17196    my   song \"so glad\" free download!  #shoegaze ...\n",
       "Name: tweet, Length: 17197, dtype: object"
      ]
     },
     "execution_count": 27,
     "metadata": {},
     "output_type": "execute_result"
    }
   ],
   "source": [
    "test_tweet['tweet']"
   ]
  },
  {
   "cell_type": "code",
   "execution_count": 28,
   "metadata": {},
   "outputs": [
    {
     "data": {
      "text/plain": [
       "'#studiolife #aislife #requires #passion #dedication #willpower   to find #newmaterialsâ\\x80¦ '"
      ]
     },
     "execution_count": 28,
     "metadata": {},
     "output_type": "execute_result"
    }
   ],
   "source": [
    "test_tweet['tweet'][0]"
   ]
  },
  {
   "cell_type": "code",
   "execution_count": 29,
   "metadata": {},
   "outputs": [
    {
     "data": {
      "text/plain": [
       "17197"
      ]
     },
     "execution_count": 29,
     "metadata": {},
     "output_type": "execute_result"
    }
   ],
   "source": [
    "len(test_tweet['tweet'])"
   ]
  },
  {
   "cell_type": "code",
   "execution_count": 30,
   "metadata": {},
   "outputs": [
    {
     "data": {
      "text/plain": [
       "17197"
      ]
     },
     "execution_count": 30,
     "metadata": {},
     "output_type": "execute_result"
    }
   ],
   "source": [
    "len(test_tweet['id'])"
   ]
  },
  {
   "cell_type": "code",
   "execution_count": 31,
   "metadata": {},
   "outputs": [
    {
     "data": {
      "text/plain": [
       "0         @user when a father is dysfunctional and is s...\n",
       "1        @user @user thanks for #lyft credit i can't us...\n",
       "2                                      bihday your majesty\n",
       "3        #model   i love u take with u all the time in ...\n",
       "4                   factsguide: society now    #motivation\n",
       "                               ...                        \n",
       "31957    ate @user isz that youuu?ðððððð...\n",
       "31958      to see nina turner on the airwaves trying to...\n",
       "31959    listening to sad songs on a monday morning otw...\n",
       "31960    @user #sikh #temple vandalised in in #calgary,...\n",
       "31961                     thank you @user for you follow  \n",
       "Name: tweet, Length: 31962, dtype: object"
      ]
     },
     "execution_count": 31,
     "metadata": {},
     "output_type": "execute_result"
    }
   ],
   "source": [
    "train_tweet['tweet']"
   ]
  },
  {
   "cell_type": "code",
   "execution_count": 32,
   "metadata": {},
   "outputs": [
    {
     "data": {
      "text/plain": [
       "31962"
      ]
     },
     "execution_count": 32,
     "metadata": {},
     "output_type": "execute_result"
    }
   ],
   "source": [
    "len(train_tweet['tweet'])"
   ]
  },
  {
   "cell_type": "code",
   "execution_count": 34,
   "metadata": {},
   "outputs": [
    {
     "data": {
      "text/plain": [
       "31963"
      ]
     },
     "execution_count": 34,
     "metadata": {},
     "output_type": "execute_result"
    }
   ],
   "source": [
    "test_tweet['id'][0]"
   ]
  },
  {
   "cell_type": "code",
   "execution_count": 67,
   "metadata": {},
   "outputs": [
    {
     "data": {
      "text/plain": [
       "17197"
      ]
     },
     "execution_count": 67,
     "metadata": {},
     "output_type": "execute_result"
    }
   ],
   "source": [
    "len(test_tweet['id'])"
   ]
  },
  {
   "cell_type": "code",
   "execution_count": 72,
   "metadata": {},
   "outputs": [
    {
     "data": {
      "text/plain": [
       "RangeIndex(start=0, stop=17197, step=1)"
      ]
     },
     "execution_count": 72,
     "metadata": {},
     "output_type": "execute_result"
    }
   ],
   "source": [
    "test_tweet.index"
   ]
  },
  {
   "cell_type": "code",
   "execution_count": 42,
   "metadata": {},
   "outputs": [
    {
     "data": {
      "text/plain": [
       "'my   song \"so glad\" free download!  #shoegaze #newmusic #newsong'"
      ]
     },
     "execution_count": 42,
     "metadata": {},
     "output_type": "execute_result"
    }
   ],
   "source": [
    "test_tweet['tweet'][len(test_tweet['tweet'])-1]"
   ]
  },
  {
   "cell_type": "code",
   "execution_count": 79,
   "metadata": {},
   "outputs": [],
   "source": [
    "text_tweet = []\n",
    "text_tweet.extend(test_tweet['tweet'])\n",
    "    "
   ]
  },
  {
   "cell_type": "code",
   "execution_count": 76,
   "metadata": {},
   "outputs": [],
   "source": [
    "text_tweet_1 =[]\n",
    "text_tweet_1.extend(test_tweet['tweet'])"
   ]
  },
  {
   "cell_type": "code",
   "execution_count": 78,
   "metadata": {},
   "outputs": [
    {
     "data": {
      "text/plain": [
       "17197"
      ]
     },
     "execution_count": 78,
     "metadata": {},
     "output_type": "execute_result"
    }
   ],
   "source": [
    "len(text_tweet_1)"
   ]
  },
  {
   "cell_type": "code",
   "execution_count": 50,
   "metadata": {},
   "outputs": [
    {
     "data": {
      "text/plain": [
       "' @user #white #supremacists want everyone to see the new â\\x80\\x98  #birdsâ\\x80\\x99 #movie â\\x80\\x94 and hereâ\\x80\\x99s why  '"
      ]
     },
     "execution_count": 50,
     "metadata": {},
     "output_type": "execute_result"
    }
   ],
   "source": [
    "text_tweet[1]"
   ]
  },
  {
   "cell_type": "code",
   "execution_count": 80,
   "metadata": {},
   "outputs": [
    {
     "data": {
      "text/plain": [
       "17197"
      ]
     },
     "execution_count": 80,
     "metadata": {},
     "output_type": "execute_result"
    }
   ],
   "source": [
    "len(text_tweet)"
   ]
  },
  {
   "cell_type": "code",
   "execution_count": 55,
   "metadata": {},
   "outputs": [
    {
     "data": {
      "text/plain": [
       "17197"
      ]
     },
     "execution_count": 55,
     "metadata": {},
     "output_type": "execute_result"
    }
   ],
   "source": [
    "len(test_tweet['id'])"
   ]
  },
  {
   "cell_type": "code",
   "execution_count": 84,
   "metadata": {},
   "outputs": [
    {
     "data": {
      "text/plain": [
       "'#studiolife #aislife #requires #passion #dedication #willpower   to find #newmaterialsâ\\x80¦ '"
      ]
     },
     "execution_count": 84,
     "metadata": {},
     "output_type": "execute_result"
    }
   ],
   "source": [
    "text_tweet[0]"
   ]
  },
  {
   "cell_type": "code",
   "execution_count": 88,
   "metadata": {},
   "outputs": [
    {
     "data": {
      "text/plain": [
       "'my   song \"so glad\" free download!  #shoegaze #newmusic #newsong'"
      ]
     },
     "execution_count": 88,
     "metadata": {},
     "output_type": "execute_result"
    }
   ],
   "source": [
    "text_tweet[17196]"
   ]
  },
  {
   "cell_type": "code",
   "execution_count": 85,
   "metadata": {},
   "outputs": [],
   "source": [
    "def remove_accented_chars(text):\n",
    "    text = unicodedata.normalize('NFKD', text).encode('ascii', 'ignore').decode('utf-8', 'ignore')\n",
    "    return text\n",
    "\n",
    "\n",
    "def expand_contractions(text):\n",
    "    return contractions.fix(text)\n",
    "\n",
    "\n",
    "def spacy_lemmatize_text(text):\n",
    "    text = nlp(text)\n",
    "    text = ' '.join([word.lemma_ if word.lemma_ != '-PRON-' else word.text for word in text])\n",
    "    return text\n",
    "\n",
    "\n",
    "def simple_stemming(text, stemmer=ps):\n",
    "    text = ' '.join([stemmer.stem(word) for word in text.split()])\n",
    "    return text\n",
    "\n",
    "\n",
    "def remove_special_characters(text, remove_digits=False):\n",
    "    pattern = r'[^a-zA-Z0-9\\s]' if not remove_digits else r'[^a-zA-Z\\s]'\n",
    "    text = re.sub(pattern, '', text)\n",
    "    return text\n",
    "\n",
    "\n",
    "def remove_stopwords(text, is_lower_case=False, stopwords=None):\n",
    "    if not stopwords:\n",
    "        stopwords = nltk.corpus.stopwords.words('english')\n",
    "    tokens = nltk.word_tokenize(text)\n",
    "    tokens = [token.strip() for token in tokens]\n",
    "    \n",
    "    if is_lower_case:\n",
    "        filtered_tokens = [token for token in tokens if token not in stopwords]\n",
    "    else:\n",
    "        filtered_tokens = [token for token in tokens if token.lower() not in stopwords]\n",
    "    \n",
    "    filtered_text = ' '.join(filtered_tokens)    \n",
    "    return filtered_text"
   ]
  },
  {
   "cell_type": "code",
   "execution_count": 90,
   "metadata": {},
   "outputs": [],
   "source": [
    "import tqdm\n",
    "\n",
    "def text_pre_processor(text, #html_strip=True, \n",
    "                       accented_char_removal=True, contraction_expansion=True,\n",
    "                       text_lower_case=True, text_stemming=False, text_lemmatization=True, \n",
    "                       special_char_removal=True, remove_digits=True, stopword_removal=True, \n",
    "                       stopword_list=None):\n",
    "    \n",
    "    # strip HTML\n",
    "    #if html_strip:\n",
    "    #    text = strip_html_tags(text)\n",
    "    \n",
    "    # remove extra newlines (often might be present in really noisy text)\n",
    "    text = text.translate(text.maketrans(\"\\n\\t\\r\", \"   \"))\n",
    "    \n",
    "    # remove accented characters\n",
    "    if accented_char_removal:\n",
    "        text = remove_accented_chars(text)\n",
    "    \n",
    "    # expand contractions    \n",
    "    if contraction_expansion:\n",
    "        text = expand_contractions(text)\n",
    "        \n",
    "    \n",
    "    # lemmatize text\n",
    "    if text_lemmatization:\n",
    "        text = spacy_lemmatize_text(text) \n",
    "        \n",
    "    # remove special characters and\\or digits    \n",
    "    if special_char_removal:\n",
    "        # insert spaces between special characters to isolate them    \n",
    "        special_char_pattern = re.compile(r'([{.(-)!}])')\n",
    "        text = special_char_pattern.sub(\" \\\\1 \", text)\n",
    "        text = remove_special_characters(text, remove_digits=remove_digits)  \n",
    "        \n",
    "    # stem text\n",
    "    if text_stemming and not text_lemmatization:\n",
    "        text = simple_stemming(text)\n",
    "        \n",
    "    # lowercase the text    \n",
    "    if text_lower_case:\n",
    "        text = text.lower()\n",
    "        \n",
    "        \n",
    "    # remove stopwords\n",
    "    if stopword_removal:\n",
    "        text = remove_stopwords(text, is_lower_case=text_lower_case, \n",
    "                                stopwords=stopword_list)\n",
    "        \n",
    "    # remove extra whitespace\n",
    "    text = re.sub(' +', ' ', text)\n",
    "    text = text.strip()\n",
    "    \n",
    "    return text\n",
    "\n",
    "  \n",
    "def corpus_pre_processor(corpus):\n",
    "  norm_corpus = []\n",
    "  for doc in tqdm.tqdm(corpus):\n",
    "    norm_corpus.append(text_pre_processor(doc))\n",
    "  return norm_corpus "
   ]
  },
  {
   "cell_type": "code",
   "execution_count": 91,
   "metadata": {},
   "outputs": [
    {
     "name": "stderr",
     "output_type": "stream",
     "text": [
      "100%|███████████████████████████████████████████████████████████████████████████| 17197/17197 [01:53<00:00, 151.75it/s]\n"
     ]
    }
   ],
   "source": [
    "norm_docs = corpus_pre_processor(text_tweet)"
   ]
  },
  {
   "cell_type": "code",
   "execution_count": 95,
   "metadata": {},
   "outputs": [
    {
     "data": {
      "text/plain": [
       "['studiolife aislife require passion dedication willpower find newmaterialsa',\n",
       " 'user white supremacist want everyone see new birdsa movie herea',\n",
       " 'safe way heal acne altwaystoheal healthy healing',\n",
       " 'hp cursed child book reservation already yes harrypott pottermore favorite',\n",
       " 'rd bihday amazing hilarious nephew eli ahmir uncle dave love missesa',\n",
       " 'choose momtip',\n",
       " 'something inside die eye ness smokeyeyes tired lonely sof grungea',\n",
       " 'finishedtattooinkedinkloveitai ai ai ai ai thanksaleeee',\n",
       " 'user user user never understand dad leave young deep inthefeel',\n",
       " 'delicious food lovelife capetown mannaepicure resturanta']"
      ]
     },
     "execution_count": 95,
     "metadata": {},
     "output_type": "execute_result"
    }
   ],
   "source": [
    "norm_docs[:10]"
   ]
  },
  {
   "cell_type": "code",
   "execution_count": null,
   "metadata": {},
   "outputs": [],
   "source": []
  }
 ],
 "metadata": {
  "kernelspec": {
   "display_name": "Python 3",
   "language": "python",
   "name": "python3"
  },
  "language_info": {
   "codemirror_mode": {
    "name": "ipython",
    "version": 3
   },
   "file_extension": ".py",
   "mimetype": "text/x-python",
   "name": "python",
   "nbconvert_exporter": "python",
   "pygments_lexer": "ipython3",
   "version": "3.8.3"
  }
 },
 "nbformat": 4,
 "nbformat_minor": 4
}
